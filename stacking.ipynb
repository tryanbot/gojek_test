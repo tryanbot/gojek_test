{
 "cells": [
  {
   "cell_type": "code",
   "execution_count": 4,
   "metadata": {},
   "outputs": [],
   "source": [
    "import numpy as np\n",
    "import pandas as pd\n",
    "import matplotlib.pyplot as plt\n",
    "import holidays\n",
    "import pytz\n",
    "\n",
    "from datetime import datetime\n",
    "from scipy import stats\n",
    "\n",
    "import eli5\n",
    "from eli5.sklearn import PermutationImportance\n",
    "from catboost import *\n",
    "from xgboost import XGBRegressor\n",
    "from lightgbm import LGBMRegressor\n",
    "from sklearn.tree import DecisionTreeRegressor\n",
    "from sklearn.ensemble import RandomForestRegressor\n",
    "from sklearn.metrics import mean_squared_error, r2_score\n",
    "from sklearn.cluster import KMeans\n",
    "from sklearn.feature_selection import RFE\n",
    "from scipy.cluster.hierarchy import ward, fcluster\n",
    "from scipy.spatial.distance import pdist\n",
    "from sklearn.linear_model import ElasticNet, Lasso,  BayesianRidge, LassoLarsIC\n",
    "from sklearn.ensemble import RandomForestRegressor,  GradientBoostingRegressor\n",
    "from sklearn.kernel_ridge import KernelRidge\n",
    "from sklearn.pipeline import make_pipeline\n",
    "from sklearn.preprocessing import RobustScaler\n",
    "from sklearn.base import BaseEstimator, TransformerMixin, RegressorMixin, clone\n",
    "from sklearn.model_selection import KFold, cross_val_score, train_test_split\n",
    "from sklearn.metrics import mean_squared_error\n",
    "import xgboost as xgb\n",
    "import lightgbm as lgb\n",
    "from sklearn.ensemble import AdaBoostRegressor\n",
    "from sklearn.ensemble import ExtraTreesRegressor\n",
    "from sklearn.ensemble import RandomForestRegressor\n",
    "from xgboost import XGBRegressor\n",
    "from lightgbm import LGBMRegressor\n",
    "from catboost import CatBoostRegressor\n",
    "from bayes_opt import BayesianOptimization"
   ]
  },
  {
   "cell_type": "code",
   "execution_count": 3,
   "metadata": {
    "collapsed": true
   },
   "outputs": [
    {
     "name": "stdout",
     "output_type": "stream",
     "text": [
      "Requirement already satisfied: holidays in /home/user/miniconda3/lib/python3.8/site-packages (0.13)\n",
      "Requirement already satisfied: eli5 in /home/user/miniconda3/lib/python3.8/site-packages (0.11.0)\n",
      "Requirement already satisfied: lightgbm in /home/user/miniconda3/lib/python3.8/site-packages (3.3.2)\n",
      "Collecting bayesian-optimization\n",
      "  Using cached bayesian_optimization-1.2.0-py3-none-any.whl\n",
      "Requirement already satisfied: numpy>=1.9.0 in /home/user/miniconda3/lib/python3.8/site-packages (from bayesian-optimization) (1.19.2)\n",
      "Requirement already satisfied: scikit-learn>=0.18.0 in /home/user/miniconda3/lib/python3.8/site-packages (from bayesian-optimization) (0.24.2)\n",
      "Requirement already satisfied: scipy>=0.14.0 in /home/user/miniconda3/lib/python3.8/site-packages (from bayesian-optimization) (1.5.4)\n",
      "Requirement already satisfied: joblib>=0.11 in /home/user/miniconda3/lib/python3.8/site-packages (from scikit-learn>=0.18.0->bayesian-optimization) (1.0.1)\n",
      "Requirement already satisfied: threadpoolctl>=2.0.0 in /home/user/miniconda3/lib/python3.8/site-packages (from scikit-learn>=0.18.0->bayesian-optimization) (2.1.0)\n",
      "Requirement already satisfied: six in /home/user/miniconda3/lib/python3.8/site-packages (from eli5) (1.15.0)\n",
      "Requirement already satisfied: tabulate>=0.7.7 in /home/user/miniconda3/lib/python3.8/site-packages (from eli5) (0.8.9)\n",
      "Requirement already satisfied: graphviz in /home/user/miniconda3/lib/python3.8/site-packages (from eli5) (0.8.4)\n",
      "Requirement already satisfied: attrs>16.0.0 in /home/user/miniconda3/envs/kaggle_days1/lib/python3.8/site-packages (from eli5) (21.2.0)\n",
      "Requirement already satisfied: jinja2 in /home/user/miniconda3/lib/python3.8/site-packages (from eli5) (3.0.3)\n",
      "Requirement already satisfied: hijri-converter in /home/user/miniconda3/lib/python3.8/site-packages (from holidays) (2.2.3)\n",
      "Requirement already satisfied: convertdate>=2.3.0 in /home/user/miniconda3/lib/python3.8/site-packages (from holidays) (2.4.0)\n",
      "Requirement already satisfied: python-dateutil in /home/user/miniconda3/lib/python3.8/site-packages (from holidays) (2.8.2)\n",
      "Requirement already satisfied: korean-lunar-calendar in /home/user/miniconda3/lib/python3.8/site-packages (from holidays) (0.2.1)\n",
      "Requirement already satisfied: pymeeus<=1,>=0.3.13 in /home/user/miniconda3/lib/python3.8/site-packages (from convertdate>=2.3.0->holidays) (0.5.11)\n",
      "Requirement already satisfied: wheel in /home/user/miniconda3/envs/kaggle_days1/lib/python3.8/site-packages (from lightgbm) (0.37.0)\n",
      "Requirement already satisfied: MarkupSafe>=2.0 in /home/user/miniconda3/lib/python3.8/site-packages (from jinja2->eli5) (2.1.1)\n",
      "Installing collected packages: bayesian-optimization\n",
      "Successfully installed bayesian-optimization-1.2.0\n"
     ]
    }
   ],
   "source": [
    "!pip install holidays eli5 lightgbm bayesian-optimization"
   ]
  },
  {
   "cell_type": "code",
   "execution_count": 5,
   "metadata": {},
   "outputs": [],
   "source": [
    "train = pd.read_csv('data/train_v1.csv', parse_dates=['date'])\n",
    "test = pd.read_csv('data/test_v1.csv', parse_dates=['date'])"
   ]
  },
  {
   "cell_type": "code",
   "execution_count": 6,
   "metadata": {},
   "outputs": [],
   "source": [
    "# drop_cols = ['driver_id', 'day', 'date', 'online_hours', 'holiday', 'next_holiday', 'prev_holiday']\n",
    "drop_cols = ['driver_id', 'day', 'date', 'online_hours', 'dayofweek']\n",
    "X_train = train.drop(drop_cols,axis=1)\n",
    "y_train = train[['online_hours']]\n",
    "X_test = test.drop(drop_cols,axis=1)\n",
    "y_test = test[['online_hours']]"
   ]
  },
  {
   "cell_type": "code",
   "execution_count": 5,
   "metadata": {},
   "outputs": [],
   "source": [
    "# a = X_train.copy()\n",
    "# a.to_csv('autosmart/data/train/main_train.data', sep='\\t', index=False)\n",
    "\n",
    "# a = (y_train['online_hours'] > 6.5)&(y_train['online_hours'] < 7.5)\n",
    "# print(np.unique(a, return_counts=True))\n",
    "# a.to_csv('autosmart/data/train/main_train.solution', index=False)\n",
    "\n",
    "# a = X_test.copy()\n",
    "# a.to_csv('autosmart/data/test/main_test.data', sep='\\t', index=False)\n",
    "\n",
    "# a = y_test['online_hours'] == 7\n",
    "# print(np.unique(a, return_counts=True))\n",
    "# a.to_csv('autosmart/data/test/main_test.solution', index=False)"
   ]
  },
  {
   "cell_type": "code",
   "execution_count": 7,
   "metadata": {},
   "outputs": [],
   "source": [
    "ntrain = len(X_train)\n",
    "ntest = len(X_test)\n",
    "n_folds = 5\n",
    "\n",
    "kf = KFold(n_splits = n_folds, random_state=0,shuffle=True)\n",
    "class SklearnHelper(object):\n",
    "    def __init__(self, clf, seed=0, params=None):\n",
    "        params['random_state'] = seed\n",
    "        self.clf = clf(**params)\n",
    "\n",
    "    def train(self, x_train, y_train):\n",
    "        self.clf.fit(x_train, y_train)\n",
    "\n",
    "    def predict(self, x):\n",
    "        return self.clf.predict(x)\n",
    "    \n",
    "    def fit(self,x,y):\n",
    "        return self.clf.fit(x,y)\n",
    "    \n",
    "    def feature_importances(self,x,y):\n",
    "        print(self.clf.fit(x,y).feature_importances_)\n",
    "        \n",
    "def get_oof(clf, x_train, y_train, x_test, y_test=None):\n",
    "    oof_train = np.zeros((ntrain,))\n",
    "    oof_test = np.zeros((ntest,))\n",
    "    oof_test_skf = np.empty((n_folds, ntest))\n",
    "    all_train_idx = []\n",
    "    all_test_idx = []\n",
    "    for i, (train_index, test_index) in enumerate(kf.split(x_train)):\n",
    "        x_tr = x_train[train_index]\n",
    "        y_tr = y_train[train_index]\n",
    "        x_te = x_train[test_index]\n",
    "        all_train_idx.append(train_index)\n",
    "        all_test_idx.append(test_index)\n",
    "        \n",
    "        clf.train(x_tr, y_tr)\n",
    "\n",
    "        oof_train[test_index] = clf.predict(x_te)\n",
    "        oof_test_skf[i, :] = clf.predict(x_test)\n",
    "        \n",
    "#         rmse_1_model = np.sqrt(mean_squared_error(clf.predict(x_test).reshape(-1, 1),y_test))\n",
    "#         print(\"mse from 1 model only\", rmse_1_model)\n",
    "\n",
    "    oof_test[:] = oof_test_skf.mean(axis=0)\n",
    "    \n",
    "#     rmse_oof = np.sqrt(mean_squared_error(oof_test.reshape(-1, 1),y_test))\n",
    "#     print('average from mean of oof ', rmse_oof)\n",
    "    return oof_train.reshape(-1, 1), oof_test.reshape(-1, 1)"
   ]
  },
  {
   "cell_type": "code",
   "execution_count": 8,
   "metadata": {},
   "outputs": [],
   "source": [
    "xg_params = {'base_score': 17.46303821732446,\n",
    "#   'booster': 1.0,\n",
    "  'gamma': 25.28091906016491,\n",
    "  'rate_drop': 0.0,\n",
    "  'reg_alpha': 0.0,\n",
    "  'reg_lambda': 50.0,\n",
    "  'scale_pos_weight': 20.36493882748504,\n",
    "    'learning_rate':0.01,\n",
    "            'n_estimators':700}\n",
    "\n",
    "xg_params = {'base_score': 6.501428605913883,\n",
    "#   'booster': 1.0387339157405941,\n",
    "  'gamma': 33.94177664699455,\n",
    "  'rate_drop': 0.21162811600005904,\n",
    "  'reg_alpha': 13.277332968611312,\n",
    "  'reg_lambda': 24.578657964016916,\n",
    "  'scale_pos_weight': 2.668127255854019,\n",
    "    'learning_rate':0.01,\n",
    "            'n_estimators':700}\n",
    "\n",
    "# Extra Trees Parameters\n",
    "lg_params = {'bagging_fraction': 0.5,\n",
    "  'lambda_l1': 0.0,\n",
    "  'lambda_l2': 1.0,\n",
    "  'max_depth': 7,\n",
    "  'min_child_samples': 17,\n",
    "  'min_child_weight': 0.01,\n",
    "  'num_leaves': 24,\n",
    "    'learning_rate':0.01,\n",
    "            'n_estimators':700}\n",
    "\n",
    "cb_params = {\n",
    "    'verbose' : 0,\n",
    "    'learning_rate':0.01,\n",
    "            'n_estimators':700\n",
    "}\n",
    "rf_params = {'max_depth': 10,\n",
    "  'min_impurity_decrease': 0.0,\n",
    "  'min_samples_leaf': 5,\n",
    "  'min_samples_split': 20,\n",
    "  'min_weight_fraction_leaf': 0.0}\n",
    "\n",
    "# Extra Trees Parameters\n",
    "et_params = {'max_depth': 10,\n",
    "  'min_impurity_decrease': 0.0,\n",
    "  'min_samples_leaf': 5,\n",
    "  'min_samples_split': 20,\n",
    "  'min_weight_fraction_leaf': 0.0}\n",
    "\n",
    "ab_params = {\n",
    "}"
   ]
  },
  {
   "cell_type": "code",
   "execution_count": 9,
   "metadata": {},
   "outputs": [],
   "source": [
    "xg = SklearnHelper(clf=XGBRegressor, params=xg_params)\n",
    "lg = SklearnHelper(clf=LGBMRegressor, params=lg_params)\n",
    "cb = SklearnHelper(clf=CatBoostRegressor, params=cb_params)\n",
    "rf = SklearnHelper(clf=RandomForestRegressor, params=rf_params)\n",
    "et = SklearnHelper(clf=ExtraTreesRegressor, params=et_params)\n",
    "ab = SklearnHelper(clf=AdaBoostRegressor, params=ab_params)"
   ]
  },
  {
   "cell_type": "code",
   "execution_count": 10,
   "metadata": {
    "scrolled": true
   },
   "outputs": [
    {
     "name": "stdout",
     "output_type": "stream",
     "text": [
      "[10:50:07] WARNING: ../src/learner.cc:576: \n",
      "Parameters: { \"rate_drop\" } might not be used.\n",
      "\n",
      "  This could be a false alarm, with some parameters getting used by language bindings but\n",
      "  then being mistakenly passed down to XGBoost core, or some parameter actually being used\n",
      "  but getting flagged wrongly here. Please open an issue if you find any such cases.\n",
      "\n",
      "\n",
      "[10:50:25] WARNING: ../src/learner.cc:576: \n",
      "Parameters: { \"rate_drop\" } might not be used.\n",
      "\n",
      "  This could be a false alarm, with some parameters getting used by language bindings but\n",
      "  then being mistakenly passed down to XGBoost core, or some parameter actually being used\n",
      "  but getting flagged wrongly here. Please open an issue if you find any such cases.\n",
      "\n",
      "\n",
      "[10:50:47] WARNING: ../src/learner.cc:576: \n",
      "Parameters: { \"rate_drop\" } might not be used.\n",
      "\n",
      "  This could be a false alarm, with some parameters getting used by language bindings but\n",
      "  then being mistakenly passed down to XGBoost core, or some parameter actually being used\n",
      "  but getting flagged wrongly here. Please open an issue if you find any such cases.\n",
      "\n",
      "\n",
      "[10:51:08] WARNING: ../src/learner.cc:576: \n",
      "Parameters: { \"rate_drop\" } might not be used.\n",
      "\n",
      "  This could be a false alarm, with some parameters getting used by language bindings but\n",
      "  then being mistakenly passed down to XGBoost core, or some parameter actually being used\n",
      "  but getting flagged wrongly here. Please open an issue if you find any such cases.\n",
      "\n",
      "\n",
      "[10:51:32] WARNING: ../src/learner.cc:576: \n",
      "Parameters: { \"rate_drop\" } might not be used.\n",
      "\n",
      "  This could be a false alarm, with some parameters getting used by language bindings but\n",
      "  then being mistakenly passed down to XGBoost core, or some parameter actually being used\n",
      "  but getting flagged wrongly here. Please open an issue if you find any such cases.\n",
      "\n",
      "\n",
      "1.8158513625624215\n",
      "[LightGBM] [Warning] lambda_l1 is set=0.0, reg_alpha=0.0 will be ignored. Current value: lambda_l1=0.0\n",
      "[LightGBM] [Warning] bagging_fraction is set=0.5, subsample=1.0 will be ignored. Current value: bagging_fraction=0.5\n",
      "[LightGBM] [Warning] lambda_l2 is set=1.0, reg_lambda=0.0 will be ignored. Current value: lambda_l2=1.0\n"
     ]
    },
    {
     "name": "stderr",
     "output_type": "stream",
     "text": [
      "/home/user/miniconda3/lib/python3.8/site-packages/sklearn/utils/validation.py:63: DataConversionWarning: A column-vector y was passed when a 1d array was expected. Please change the shape of y to (n_samples, ), for example using ravel().\n",
      "  return f(*args, **kwargs)\n",
      "/home/user/miniconda3/lib/python3.8/site-packages/sklearn/utils/validation.py:63: DataConversionWarning: A column-vector y was passed when a 1d array was expected. Please change the shape of y to (n_samples, ), for example using ravel().\n",
      "  return f(*args, **kwargs)\n"
     ]
    },
    {
     "name": "stdout",
     "output_type": "stream",
     "text": [
      "[LightGBM] [Warning] lambda_l1 is set=0.0, reg_alpha=0.0 will be ignored. Current value: lambda_l1=0.0\n",
      "[LightGBM] [Warning] bagging_fraction is set=0.5, subsample=1.0 will be ignored. Current value: bagging_fraction=0.5\n",
      "[LightGBM] [Warning] lambda_l2 is set=1.0, reg_lambda=0.0 will be ignored. Current value: lambda_l2=1.0\n"
     ]
    },
    {
     "name": "stderr",
     "output_type": "stream",
     "text": [
      "/home/user/miniconda3/lib/python3.8/site-packages/sklearn/utils/validation.py:63: DataConversionWarning: A column-vector y was passed when a 1d array was expected. Please change the shape of y to (n_samples, ), for example using ravel().\n",
      "  return f(*args, **kwargs)\n"
     ]
    },
    {
     "name": "stdout",
     "output_type": "stream",
     "text": [
      "[LightGBM] [Warning] lambda_l1 is set=0.0, reg_alpha=0.0 will be ignored. Current value: lambda_l1=0.0\n",
      "[LightGBM] [Warning] bagging_fraction is set=0.5, subsample=1.0 will be ignored. Current value: bagging_fraction=0.5\n",
      "[LightGBM] [Warning] lambda_l2 is set=1.0, reg_lambda=0.0 will be ignored. Current value: lambda_l2=1.0\n"
     ]
    },
    {
     "name": "stderr",
     "output_type": "stream",
     "text": [
      "/home/user/miniconda3/lib/python3.8/site-packages/sklearn/utils/validation.py:63: DataConversionWarning: A column-vector y was passed when a 1d array was expected. Please change the shape of y to (n_samples, ), for example using ravel().\n",
      "  return f(*args, **kwargs)\n"
     ]
    },
    {
     "name": "stdout",
     "output_type": "stream",
     "text": [
      "[LightGBM] [Warning] lambda_l1 is set=0.0, reg_alpha=0.0 will be ignored. Current value: lambda_l1=0.0\n",
      "[LightGBM] [Warning] bagging_fraction is set=0.5, subsample=1.0 will be ignored. Current value: bagging_fraction=0.5\n",
      "[LightGBM] [Warning] lambda_l2 is set=1.0, reg_lambda=0.0 will be ignored. Current value: lambda_l2=1.0\n"
     ]
    },
    {
     "name": "stderr",
     "output_type": "stream",
     "text": [
      "/home/user/miniconda3/lib/python3.8/site-packages/sklearn/utils/validation.py:63: DataConversionWarning: A column-vector y was passed when a 1d array was expected. Please change the shape of y to (n_samples, ), for example using ravel().\n",
      "  return f(*args, **kwargs)\n"
     ]
    },
    {
     "name": "stdout",
     "output_type": "stream",
     "text": [
      "[LightGBM] [Warning] lambda_l1 is set=0.0, reg_alpha=0.0 will be ignored. Current value: lambda_l1=0.0\n",
      "[LightGBM] [Warning] bagging_fraction is set=0.5, subsample=1.0 will be ignored. Current value: bagging_fraction=0.5\n",
      "[LightGBM] [Warning] lambda_l2 is set=1.0, reg_lambda=0.0 will be ignored. Current value: lambda_l2=1.0\n",
      "1.80582378839179\n",
      "1.8160424506317239\n"
     ]
    },
    {
     "name": "stderr",
     "output_type": "stream",
     "text": [
      "<ipython-input-7-cb1a9aad3a5a>:12: DataConversionWarning: A column-vector y was passed when a 1d array was expected. Please change the shape of y to (n_samples,), for example using ravel().\n",
      "  self.clf.fit(x_train, y_train)\n",
      "<ipython-input-7-cb1a9aad3a5a>:12: DataConversionWarning: A column-vector y was passed when a 1d array was expected. Please change the shape of y to (n_samples,), for example using ravel().\n",
      "  self.clf.fit(x_train, y_train)\n",
      "<ipython-input-7-cb1a9aad3a5a>:12: DataConversionWarning: A column-vector y was passed when a 1d array was expected. Please change the shape of y to (n_samples,), for example using ravel().\n",
      "  self.clf.fit(x_train, y_train)\n",
      "<ipython-input-7-cb1a9aad3a5a>:12: DataConversionWarning: A column-vector y was passed when a 1d array was expected. Please change the shape of y to (n_samples,), for example using ravel().\n",
      "  self.clf.fit(x_train, y_train)\n",
      "<ipython-input-7-cb1a9aad3a5a>:12: DataConversionWarning: A column-vector y was passed when a 1d array was expected. Please change the shape of y to (n_samples,), for example using ravel().\n",
      "  self.clf.fit(x_train, y_train)\n"
     ]
    },
    {
     "name": "stdout",
     "output_type": "stream",
     "text": [
      "1.804705321957365\n"
     ]
    },
    {
     "name": "stderr",
     "output_type": "stream",
     "text": [
      "<ipython-input-7-cb1a9aad3a5a>:12: DataConversionWarning: A column-vector y was passed when a 1d array was expected. Please change the shape of y to (n_samples,), for example using ravel().\n",
      "  self.clf.fit(x_train, y_train)\n",
      "<ipython-input-7-cb1a9aad3a5a>:12: DataConversionWarning: A column-vector y was passed when a 1d array was expected. Please change the shape of y to (n_samples,), for example using ravel().\n",
      "  self.clf.fit(x_train, y_train)\n",
      "<ipython-input-7-cb1a9aad3a5a>:12: DataConversionWarning: A column-vector y was passed when a 1d array was expected. Please change the shape of y to (n_samples,), for example using ravel().\n",
      "  self.clf.fit(x_train, y_train)\n",
      "<ipython-input-7-cb1a9aad3a5a>:12: DataConversionWarning: A column-vector y was passed when a 1d array was expected. Please change the shape of y to (n_samples,), for example using ravel().\n",
      "  self.clf.fit(x_train, y_train)\n",
      "<ipython-input-7-cb1a9aad3a5a>:12: DataConversionWarning: A column-vector y was passed when a 1d array was expected. Please change the shape of y to (n_samples,), for example using ravel().\n",
      "  self.clf.fit(x_train, y_train)\n"
     ]
    },
    {
     "name": "stdout",
     "output_type": "stream",
     "text": [
      "1.8064405361661537\n"
     ]
    },
    {
     "name": "stderr",
     "output_type": "stream",
     "text": [
      "/home/user/miniconda3/lib/python3.8/site-packages/sklearn/utils/validation.py:63: DataConversionWarning: A column-vector y was passed when a 1d array was expected. Please change the shape of y to (n_samples, ), for example using ravel().\n",
      "  return f(*args, **kwargs)\n",
      "/home/user/miniconda3/lib/python3.8/site-packages/sklearn/utils/validation.py:63: DataConversionWarning: A column-vector y was passed when a 1d array was expected. Please change the shape of y to (n_samples, ), for example using ravel().\n",
      "  return f(*args, **kwargs)\n",
      "/home/user/miniconda3/lib/python3.8/site-packages/sklearn/utils/validation.py:63: DataConversionWarning: A column-vector y was passed when a 1d array was expected. Please change the shape of y to (n_samples, ), for example using ravel().\n",
      "  return f(*args, **kwargs)\n",
      "/home/user/miniconda3/lib/python3.8/site-packages/sklearn/utils/validation.py:63: DataConversionWarning: A column-vector y was passed when a 1d array was expected. Please change the shape of y to (n_samples, ), for example using ravel().\n",
      "  return f(*args, **kwargs)\n",
      "/home/user/miniconda3/lib/python3.8/site-packages/sklearn/utils/validation.py:63: DataConversionWarning: A column-vector y was passed when a 1d array was expected. Please change the shape of y to (n_samples, ), for example using ravel().\n",
      "  return f(*args, **kwargs)\n"
     ]
    },
    {
     "name": "stdout",
     "output_type": "stream",
     "text": [
      "1.9580536628290943\n"
     ]
    }
   ],
   "source": [
    "xg_oof_train, xg_oof_test = get_oof(xg, X_train.values, y_train.values, X_test.values,y_test.values)\n",
    "print(np.sqrt(mean_squared_error(xg_oof_test,y_test)))\n",
    "lg_oof_train, lg_oof_test = get_oof(lg, X_train.values, y_train.values, X_test.values,y_test.values) \n",
    "print(np.sqrt(mean_squared_error(lg_oof_test,y_test)))\n",
    "cb_oof_train, cb_oof_test = get_oof(cb, X_train.values, y_train.values, X_test.values,y_test.values) \n",
    "print(np.sqrt(mean_squared_error(cb_oof_test,y_test)))\n",
    "rf_oof_train, rf_oof_test = get_oof(rf, X_train.values, y_train.values, X_test.values,y_test.values)\n",
    "print(np.sqrt(mean_squared_error(rf_oof_test,y_test)))\n",
    "et_oof_train, et_oof_test = get_oof(et, X_train.values, y_train.values, X_test.values,y_test.values)\n",
    "print(np.sqrt(mean_squared_error(et_oof_test,y_test)))\n",
    "ab_oof_train, ab_oof_test = get_oof(ab, X_train.values, y_train.values, X_test.values,y_test.values)\n",
    "print(np.sqrt(mean_squared_error(ab_oof_test,y_test)))"
   ]
  },
  {
   "cell_type": "code",
   "execution_count": 11,
   "metadata": {},
   "outputs": [],
   "source": [
    "X_train = np.concatenate(( xg_oof_train, lg_oof_train, cb_oof_train, rf_oof_train, et_oof_train, ab_oof_train), axis=1)\n",
    "X_test = np.concatenate(( xg_oof_test, lg_oof_test, cb_oof_test, rf_oof_test, et_oof_test, ab_oof_test), axis=1)"
   ]
  },
  {
   "cell_type": "code",
   "execution_count": 12,
   "metadata": {},
   "outputs": [],
   "source": [
    "from sklearn.metrics import r2_score\n",
    "from sklearn.linear_model import Ridge\n",
    "rl = Ridge()"
   ]
  },
  {
   "cell_type": "code",
   "execution_count": 13,
   "metadata": {},
   "outputs": [
    {
     "data": {
      "text/plain": [
       "Ridge()"
      ]
     },
     "execution_count": 13,
     "metadata": {},
     "output_type": "execute_result"
    }
   ],
   "source": [
    "rl.fit(X_train,y_train)"
   ]
  },
  {
   "cell_type": "code",
   "execution_count": null,
   "metadata": {},
   "outputs": [],
   "source": [
    "#newest version\n",
    "np.sqrt(mean_squared_error(y_test,rl.predict(X_test)))"
   ]
  },
  {
   "cell_type": "code",
   "execution_count": 12,
   "metadata": {},
   "outputs": [
    {
     "data": {
      "text/plain": [
       "1.803240086763623"
      ]
     },
     "execution_count": 12,
     "metadata": {},
     "output_type": "execute_result"
    }
   ],
   "source": [
    "#newest version\n",
    "np.sqrt(mean_squared_error(y_test,rl.predict(X_test)))"
   ]
  },
  {
   "cell_type": "code",
   "execution_count": 14,
   "metadata": {},
   "outputs": [
    {
     "data": {
      "text/plain": [
       "0.7159207552054878"
      ]
     },
     "execution_count": 14,
     "metadata": {},
     "output_type": "execute_result"
    }
   ],
   "source": [
    "#newest version\n",
    "r2_score(y_test.values.reshape(-1),rl.predict(X_test).reshape(-1))"
   ]
  },
  {
   "cell_type": "code",
   "execution_count": 23,
   "metadata": {},
   "outputs": [
    {
     "data": {
      "text/plain": [
       "1.7994981875984477"
      ]
     },
     "execution_count": 23,
     "metadata": {},
     "output_type": "execute_result"
    }
   ],
   "source": [
    "#newest version\n",
    "np.sqrt(mean_squared_error(y_test,rl.predict(X_test)))"
   ]
  },
  {
   "cell_type": "code",
   "execution_count": 24,
   "metadata": {},
   "outputs": [
    {
     "data": {
      "text/plain": [
       "0.7170985162664016"
      ]
     },
     "execution_count": 24,
     "metadata": {},
     "output_type": "execute_result"
    }
   ],
   "source": [
    "#newest version\n",
    "r2_score(y_test.values.reshape(-1),rl.predict(X_test).reshape(-1))"
   ]
  },
  {
   "cell_type": "code",
   "execution_count": 11,
   "metadata": {},
   "outputs": [
    {
     "data": {
      "text/plain": [
       "1.8023350734057813"
      ]
     },
     "execution_count": 11,
     "metadata": {},
     "output_type": "execute_result"
    }
   ],
   "source": [
    "#newest version\n",
    "np.sqrt(mean_squared_error(y_test,rl.predict(X_test)))"
   ]
  },
  {
   "cell_type": "code",
   "execution_count": 13,
   "metadata": {},
   "outputs": [
    {
     "data": {
      "text/plain": [
       "0.7162058320483708"
      ]
     },
     "execution_count": 13,
     "metadata": {},
     "output_type": "execute_result"
    }
   ],
   "source": [
    "#newest version\n",
    "r2_score(y_test.values.reshape(-1),rl.predict(X_test).reshape(-1))"
   ]
  },
  {
   "cell_type": "code",
   "execution_count": null,
   "metadata": {},
   "outputs": [],
   "source": []
  },
  {
   "cell_type": "code",
   "execution_count": 13,
   "metadata": {},
   "outputs": [
    {
     "data": {
      "text/plain": [
       "1.7553690209540496"
      ]
     },
     "execution_count": 13,
     "metadata": {},
     "output_type": "execute_result"
    }
   ],
   "source": [
    "#before tuning 1.762724764406399\n",
    "#after tuning 1.7553690209540496\n",
    "np.sqrt(mean_squared_error(y_test,rl.predict(X_test)))"
   ]
  },
  {
   "cell_type": "code",
   "execution_count": 16,
   "metadata": {},
   "outputs": [
    {
     "data": {
      "text/plain": [
       "0.7067996685215242"
      ]
     },
     "execution_count": 16,
     "metadata": {},
     "output_type": "execute_result"
    }
   ],
   "source": [
    "#before tuning 0.7037676733623973\n",
    "#after tuning 0.7067996685215242\n",
    "r2_score(y_test.values.reshape(-1),rl.predict(X_test).reshape(-1))"
   ]
  },
  {
   "cell_type": "code",
   "execution_count": 48,
   "metadata": {},
   "outputs": [
    {
     "data": {
      "text/plain": [
       "1.7989849833008245"
      ]
     },
     "execution_count": 48,
     "metadata": {},
     "output_type": "execute_result"
    }
   ],
   "source": [
    "# with cluster\n",
    "np.sqrt(mean_squared_error(y_test,rl.predict(X_test)))"
   ]
  },
  {
   "cell_type": "code",
   "execution_count": 49,
   "metadata": {},
   "outputs": [
    {
     "data": {
      "text/plain": [
       "0.717259856305757"
      ]
     },
     "execution_count": 49,
     "metadata": {},
     "output_type": "execute_result"
    }
   ],
   "source": [
    "# with cluster\n",
    "r2_score(y_test.values.reshape(-1),rl.predict(X_test).reshape(-1))"
   ]
  },
  {
   "cell_type": "code",
   "execution_count": 26,
   "metadata": {},
   "outputs": [
    {
     "data": {
      "text/plain": [
       "1.755394948895939"
      ]
     },
     "execution_count": 26,
     "metadata": {},
     "output_type": "execute_result"
    }
   ],
   "source": [
    "# without dayofweek with holiday\n",
    "np.sqrt(mean_squared_error(y_test,rl.predict(X_test)))"
   ]
  },
  {
   "cell_type": "code",
   "execution_count": 27,
   "metadata": {},
   "outputs": [
    {
     "data": {
      "text/plain": [
       "0.70679100693845"
      ]
     },
     "execution_count": 27,
     "metadata": {},
     "output_type": "execute_result"
    }
   ],
   "source": [
    "# without dayofweek with holiday\n",
    "r2_score(y_test.values.reshape(-1),rl.predict(X_test).reshape(-1))"
   ]
  },
  {
   "cell_type": "markdown",
   "metadata": {},
   "source": [
    "# Hyperparameter Tuning through Bayesian"
   ]
  },
  {
   "cell_type": "markdown",
   "metadata": {},
   "source": [
    "## 1. XGBoost "
   ]
  },
  {
   "cell_type": "code",
   "execution_count": 171,
   "metadata": {},
   "outputs": [],
   "source": [
    "class xgboost_target :\n",
    "    def __init__(self, x_train, y_train, x_test, y_test) :\n",
    "        self.x_train = x_train.values\n",
    "        self.y_train = y_train.values\n",
    "        self.x_test = x_test.values\n",
    "        self.y_test = y_test.values\n",
    "        \n",
    "    def clean_param(self, param) :\n",
    "        booster_dict = {1:'gbtree', 2:'gblinear', 3:'dart'}\n",
    "        params = {'random_state':0, \n",
    "                  'subsample':1, \n",
    "                  'colsample_bytree':1, \n",
    "                  'colsample_bylevel':1}\n",
    "        \n",
    "        params['objective'] = 'reg:squarederror'\n",
    "        params['learning_rate'] = 0.1\n",
    "        params['n_estimators'] = 100\n",
    "        params['booster'] = booster_dict[int(param['booster'])]\n",
    "        params['gamma'] = param['gamma']\n",
    "        params['reg_alpha'] = param['reg_alpha']\n",
    "        params['reg_lambda'] = param['reg_lambda']\n",
    "        params['scale_pos_weight'] = param['scale_pos_weight']\n",
    "        params['base_score'] = param['base_score']\n",
    "        params['rate_drop'] = param['rate_drop']\n",
    "        return params\n",
    "        \n",
    "    def evaluate(self,  \n",
    "                 booster, \n",
    "                 gamma, \n",
    "                 reg_alpha, \n",
    "                 reg_lambda, \n",
    "                 scale_pos_weight, \n",
    "                 base_score, \n",
    "                 rate_drop):\n",
    "\n",
    "        params = {}\n",
    "        params['learning_rate'] = 0.1\n",
    "        params['n_estimators'] = 100\n",
    "        params['booster'] = booster\n",
    "        params['gamma'] = gamma\n",
    "        params['reg_alpha'] = reg_alpha\n",
    "        params['reg_lambda'] = reg_lambda\n",
    "        params['scale_pos_weight'] = scale_pos_weight\n",
    "        params['base_score'] = base_score\n",
    "        params['rate_drop'] = rate_drop\n",
    "        params = self.clean_param(params)\n",
    "\n",
    "        xgb_model = XGBRegressor(**params)\n",
    "        xgb_model.fit(self.x_train, self.y_train)\n",
    "        y_pred = xgb_model.predict(self.x_test)\n",
    "        predictions = [value for value in y_pred]\n",
    "        mse = mean_squared_error(self.y_test, predictions)\n",
    "        rmse = np.sqrt(mse)\n",
    "        return -1*rmse"
   ]
  },
  {
   "cell_type": "code",
   "execution_count": 17,
   "metadata": {},
   "outputs": [],
   "source": [
    "from sklearn.model_selection import train_test_split\n",
    "train = pd.read_csv('data/train_v2.csv', parse_dates=['date'])\n",
    "test = pd.read_csv('data/test_non_anomaly_v2.csv', parse_dates=['date'])\n",
    "y_train = train[['online_hours']]\n",
    "X_train = train.drop(['driver_id', 'day', 'date', 'online_hours', \n",
    "                      'holiday', 'next_holiday', 'prev_holiday'],axis=1)\n",
    "X_test = test.drop(['driver_id', 'day', 'date', 'online_hours', \n",
    "                      'holiday', 'next_holiday', 'prev_holiday'],axis=1)\n",
    "y_test = test[['online_hours']]"
   ]
  },
  {
   "cell_type": "code",
   "execution_count": 174,
   "metadata": {
    "scrolled": false
   },
   "outputs": [
    {
     "name": "stdout",
     "output_type": "stream",
     "text": [
      "|   iter    |  target   | base_s... |  booster  |   gamma   | rate_drop | reg_alpha | reg_la... | scale_... |\n",
      "-------------------------------------------------------------------------------------------------------------\n",
      "| \u001b[0m 1       \u001b[0m | \u001b[0m-3.511   \u001b[0m | \u001b[0m 20.85   \u001b[0m | \u001b[0m 2.441   \u001b[0m | \u001b[0m 0.005719\u001b[0m | \u001b[0m 0.3023  \u001b[0m | \u001b[0m 7.338   \u001b[0m | \u001b[0m 4.617   \u001b[0m | \u001b[0m 9.313   \u001b[0m |\n",
      "| \u001b[95m 2       \u001b[0m | \u001b[95m-1.806   \u001b[0m | \u001b[95m 17.28   \u001b[0m | \u001b[95m 1.794   \u001b[0m | \u001b[95m 26.94   \u001b[0m | \u001b[95m 0.4192  \u001b[0m | \u001b[95m 34.26   \u001b[0m | \u001b[95m 10.22   \u001b[0m | \u001b[95m 43.91   \u001b[0m |\n",
      "| \u001b[0m 3       \u001b[0m | \u001b[0m-3.109   \u001b[0m | \u001b[0m 1.369   \u001b[0m | \u001b[0m 2.341   \u001b[0m | \u001b[0m 20.87   \u001b[0m | \u001b[0m 0.5587  \u001b[0m | \u001b[0m 7.019   \u001b[0m | \u001b[0m 9.905   \u001b[0m | \u001b[0m 40.04   \u001b[0m |\n",
      "| \u001b[0m 4       \u001b[0m | \u001b[0m-1.825   \u001b[0m | \u001b[0m 48.41   \u001b[0m | \u001b[0m 1.627   \u001b[0m | \u001b[0m 34.62   \u001b[0m | \u001b[0m 0.8764  \u001b[0m | \u001b[0m 44.73   \u001b[0m | \u001b[0m 4.252   \u001b[0m | \u001b[0m 1.953   \u001b[0m |\n",
      "| \u001b[0m 5       \u001b[0m | \u001b[0m-3.388   \u001b[0m | \u001b[0m 8.492   \u001b[0m | \u001b[0m 2.756   \u001b[0m | \u001b[0m 4.917   \u001b[0m | \u001b[0m 0.4211  \u001b[0m | \u001b[0m 47.89   \u001b[0m | \u001b[0m 26.66   \u001b[0m | \u001b[0m 34.59   \u001b[0m |\n",
      "| \u001b[0m 6       \u001b[0m | \u001b[0m-3.387   \u001b[0m | \u001b[0m 15.78   \u001b[0m | \u001b[0m 2.373   \u001b[0m | \u001b[0m 41.73   \u001b[0m | \u001b[0m 0.01829 \u001b[0m | \u001b[0m 37.51   \u001b[0m | \u001b[0m 49.44   \u001b[0m | \u001b[0m 37.41   \u001b[0m |\n",
      "| \u001b[0m 7       \u001b[0m | \u001b[0m-3.387   \u001b[0m | \u001b[0m 14.02   \u001b[0m | \u001b[0m 2.579   \u001b[0m | \u001b[0m 5.161   \u001b[0m | \u001b[0m 0.4479  \u001b[0m | \u001b[0m 45.43   \u001b[0m | \u001b[0m 14.68   \u001b[0m | \u001b[0m 14.39   \u001b[0m |\n",
      "| \u001b[95m 8       \u001b[0m | \u001b[95m-1.798   \u001b[0m | \u001b[95m 6.501   \u001b[0m | \u001b[95m 1.039   \u001b[0m | \u001b[95m 33.94   \u001b[0m | \u001b[95m 0.2116  \u001b[0m | \u001b[95m 13.28   \u001b[0m | \u001b[95m 24.58   \u001b[0m | \u001b[95m 2.668   \u001b[0m |\n",
      "| \u001b[0m 9       \u001b[0m | \u001b[0m-1.809   \u001b[0m | \u001b[0m 28.71   \u001b[0m | \u001b[0m 1.293   \u001b[0m | \u001b[0m 29.47   \u001b[0m | \u001b[0m 0.6998  \u001b[0m | \u001b[0m 5.117   \u001b[0m | \u001b[0m 20.7    \u001b[0m | \u001b[0m 34.72   \u001b[0m |\n",
      "| \u001b[0m 10      \u001b[0m | \u001b[0m-1.818   \u001b[0m | \u001b[0m 20.71   \u001b[0m | \u001b[0m 1.1     \u001b[0m | \u001b[0m 26.79   \u001b[0m | \u001b[0m 0.6638  \u001b[0m | \u001b[0m 25.74   \u001b[0m | \u001b[0m 47.23   \u001b[0m | \u001b[0m 29.33   \u001b[0m |\n",
      "| \u001b[0m 11      \u001b[0m | \u001b[0m-1.81    \u001b[0m | \u001b[0m 45.17   \u001b[0m | \u001b[0m 1.275   \u001b[0m | \u001b[0m 6.964   \u001b[0m | \u001b[0m 0.8074  \u001b[0m | \u001b[0m 19.88   \u001b[0m | \u001b[0m 8.268   \u001b[0m | \u001b[0m 46.38   \u001b[0m |\n",
      "| \u001b[0m 12      \u001b[0m | \u001b[0m-3.393   \u001b[0m | \u001b[0m 17.39   \u001b[0m | \u001b[0m 2.502   \u001b[0m | \u001b[0m 36.3    \u001b[0m | \u001b[0m 0.8833  \u001b[0m | \u001b[0m 31.18   \u001b[0m | \u001b[0m 37.55   \u001b[0m | \u001b[0m 17.44   \u001b[0m |\n",
      "| \u001b[0m 13      \u001b[0m | \u001b[0m-3.387   \u001b[0m | \u001b[0m 13.5    \u001b[0m | \u001b[0m 2.792   \u001b[0m | \u001b[0m 21.4    \u001b[0m | \u001b[0m 0.9648  \u001b[0m | \u001b[0m 33.17   \u001b[0m | \u001b[0m 31.08   \u001b[0m | \u001b[0m 5.737   \u001b[0m |\n",
      "| \u001b[0m 14      \u001b[0m | \u001b[0m-1.829   \u001b[0m | \u001b[0m 47.47   \u001b[0m | \u001b[0m 1.9     \u001b[0m | \u001b[0m 28.92   \u001b[0m | \u001b[0m 0.4081  \u001b[0m | \u001b[0m 11.85   \u001b[0m | \u001b[0m 45.17   \u001b[0m | \u001b[0m 28.68   \u001b[0m |\n",
      "| \u001b[0m 15      \u001b[0m | \u001b[0m-3.389   \u001b[0m | \u001b[0m 0.1435  \u001b[0m | \u001b[0m 2.234   \u001b[0m | \u001b[0m 16.33   \u001b[0m | \u001b[0m 0.5271  \u001b[0m | \u001b[0m 44.3    \u001b[0m | \u001b[0m 17.86   \u001b[0m | \u001b[0m 45.43   \u001b[0m |\n",
      "| \u001b[0m 16      \u001b[0m | \u001b[0m-1.801   \u001b[0m | \u001b[0m 5.551   \u001b[0m | \u001b[0m 1.034   \u001b[0m | \u001b[0m 34.9    \u001b[0m | \u001b[0m 0.2101  \u001b[0m | \u001b[0m 13.47   \u001b[0m | \u001b[0m 24.41   \u001b[0m | \u001b[0m 3.046   \u001b[0m |\n",
      "| \u001b[0m 17      \u001b[0m | \u001b[0m-1.822   \u001b[0m | \u001b[0m 44.71   \u001b[0m | \u001b[0m 1.0     \u001b[0m | \u001b[0m 36.55   \u001b[0m | \u001b[0m 0.3678  \u001b[0m | \u001b[0m 30.23   \u001b[0m | \u001b[0m 4.021   \u001b[0m | \u001b[0m 43.09   \u001b[0m |\n",
      "| \u001b[0m 18      \u001b[0m | \u001b[0m-1.809   \u001b[0m | \u001b[0m 29.65   \u001b[0m | \u001b[0m 1.0     \u001b[0m | \u001b[0m 11.84   \u001b[0m | \u001b[0m 1.0     \u001b[0m | \u001b[0m 11.11   \u001b[0m | \u001b[0m 50.0    \u001b[0m | \u001b[0m 46.41   \u001b[0m |\n",
      "| \u001b[95m 19      \u001b[0m | \u001b[95m-1.797   \u001b[0m | \u001b[95m 17.46   \u001b[0m | \u001b[95m 1.0     \u001b[0m | \u001b[95m 25.28   \u001b[0m | \u001b[95m 0.0     \u001b[0m | \u001b[95m 0.0     \u001b[0m | \u001b[95m 50.0    \u001b[0m | \u001b[95m 20.36   \u001b[0m |\n",
      "| \u001b[0m 20      \u001b[0m | \u001b[0m-1.803   \u001b[0m | \u001b[0m 26.91   \u001b[0m | \u001b[0m 1.0     \u001b[0m | \u001b[0m 50.0    \u001b[0m | \u001b[0m 0.0     \u001b[0m | \u001b[0m 0.0     \u001b[0m | \u001b[0m 8.949   \u001b[0m | \u001b[0m 0.0     \u001b[0m |\n",
      "| \u001b[0m 21      \u001b[0m | \u001b[0m-1.814   \u001b[0m | \u001b[0m 50.0    \u001b[0m | \u001b[0m 1.0     \u001b[0m | \u001b[0m 14.97   \u001b[0m | \u001b[0m 1.0     \u001b[0m | \u001b[0m 39.26   \u001b[0m | \u001b[0m 34.92   \u001b[0m | \u001b[0m 50.0    \u001b[0m |\n",
      "| \u001b[0m 22      \u001b[0m | \u001b[0m-1.811   \u001b[0m | \u001b[0m 50.0    \u001b[0m | \u001b[0m 1.0     \u001b[0m | \u001b[0m 9.574   \u001b[0m | \u001b[0m 0.0     \u001b[0m | \u001b[0m 50.0    \u001b[0m | \u001b[0m 0.0     \u001b[0m | \u001b[0m 50.0    \u001b[0m |\n",
      "| \u001b[0m 23      \u001b[0m | \u001b[0m-1.807   \u001b[0m | \u001b[0m 0.0     \u001b[0m | \u001b[0m 1.0     \u001b[0m | \u001b[0m 50.0    \u001b[0m | \u001b[0m 0.0     \u001b[0m | \u001b[0m 0.0     \u001b[0m | \u001b[0m 50.0    \u001b[0m | \u001b[0m 0.0     \u001b[0m |\n",
      "| \u001b[0m 24      \u001b[0m | \u001b[0m-1.84    \u001b[0m | \u001b[0m 50.0    \u001b[0m | \u001b[0m 1.0     \u001b[0m | \u001b[0m 50.0    \u001b[0m | \u001b[0m 1.0     \u001b[0m | \u001b[0m 0.0     \u001b[0m | \u001b[0m 50.0    \u001b[0m | \u001b[0m 0.0     \u001b[0m |\n",
      "| \u001b[0m 25      \u001b[0m | \u001b[0m-1.84    \u001b[0m | \u001b[0m 50.0    \u001b[0m | \u001b[0m 1.0     \u001b[0m | \u001b[0m 50.0    \u001b[0m | \u001b[0m 1.0     \u001b[0m | \u001b[0m 0.0     \u001b[0m | \u001b[0m 27.62   \u001b[0m | \u001b[0m 50.0    \u001b[0m |\n",
      "=============================================================================================================\n"
     ]
    }
   ],
   "source": [
    "X_train_subset, X_test_subset, y_train_subset, y_test_subset = train_test_split(X_train, y_train, test_size=0.2)\n",
    "xt = xgboost_target(X_train_subset, y_train_subset, X_test_subset, y_test_subset)\n",
    "xgbBO = BayesianOptimization(xt.evaluate, {'booster' : (1, 3),\n",
    "                                            'gamma' : (0, 50),\n",
    "                                            'reg_alpha' : (0, 50),\n",
    "                                            'reg_lambda' : (0, 50),\n",
    "                                            'scale_pos_weight' : (0, 50),\n",
    "                                            'base_score' : (0, 50),\n",
    "                                            'rate_drop': (0, 1)},\n",
    "                            random_state = 1)\n",
    "\n",
    "xgbBO.maximize(init_points=15, n_iter=10)"
   ]
  },
  {
   "cell_type": "code",
   "execution_count": 176,
   "metadata": {},
   "outputs": [
    {
     "data": {
      "text/plain": [
       "{'target': -1.7973869087189835,\n",
       " 'params': {'base_score': 17.46303821732446,\n",
       "  'booster': 1.0,\n",
       "  'gamma': 25.28091906016491,\n",
       "  'rate_drop': 0.0,\n",
       "  'reg_alpha': 0.0,\n",
       "  'reg_lambda': 50.0,\n",
       "  'scale_pos_weight': 20.36493882748504}}"
      ]
     },
     "execution_count": 176,
     "metadata": {},
     "output_type": "execute_result"
    }
   ],
   "source": [
    "xgbBO.max"
   ]
  },
  {
   "cell_type": "markdown",
   "metadata": {},
   "source": [
    "## 2. LGBM "
   ]
  },
  {
   "cell_type": "code",
   "execution_count": 183,
   "metadata": {},
   "outputs": [],
   "source": [
    "class lgbm_target :\n",
    "    def __init__(self, x_train, y_train, x_test, y_test) :\n",
    "        self.x_train = x_train\n",
    "        self.y_train = y_train\n",
    "        self.x_test = x_test\n",
    "        self.y_test = y_test\n",
    "        \n",
    "    def clean_param(self, param) :\n",
    "        params = {'boosting_type':'gbdt', 'class_weight':None, 'colsample_bytree':1.0, \n",
    "                  'importance_type':'split', 'learning_rate':0.1,\n",
    "                  'min_child_samples':20, 'min_split_gain':0.0, 'n_estimators':100, 'objective':None,\n",
    "                  'random_state':0, 'reg_alpha':0.0, 'reg_lambda':0.0, 'silent':True,\n",
    "                  'subsample':1.0, 'subsample_for_bin':200000, 'subsample_freq':0}\n",
    "        params['num_leaves'] = int(param['num_leaves'])\n",
    "        params['min_child_weight'] = int(param['min_child_weight'])\n",
    "        params['max_depth'] = int(param['max_depth'])\n",
    "        params['learning_rate'] = 0.1\n",
    "        params['min_data_in_bin'] = 1\n",
    "        params['min_data'] = 1\n",
    "        \n",
    "        params['min_child_samples'] = int(param['min_child_samples'])\n",
    "        params['bagging_fraction'] = param['bagging_fraction']\n",
    "        params['lambda_l1'] = param['lambda_l1']\n",
    "        params['lambda_l2'] = param['lambda_l2']\n",
    "\n",
    "        return params\n",
    "        \n",
    "    def evaluate(self, min_child_weight, max_depth, num_leaves,\n",
    "                min_child_samples, bagging_fraction, lambda_l1, lambda_l2):\n",
    "        params = {'num_leaves':num_leaves, \n",
    "                  'min_child_weight':min_child_weight, \n",
    "                  'max_depth':max_depth,\n",
    "                 'min_child_samples':min_child_samples,\n",
    "                 'bagging_fraction' : bagging_fraction,\n",
    "                 'lambda_l1' : lambda_l1,\n",
    "                 'lambda_l2' : lambda_l2}\n",
    "        \n",
    "        params = self.clean_param(params)\n",
    "\n",
    "        lgbm_model = LGBMRegressor(**params)\n",
    "        lgbm_model.fit(self.x_train, self.y_train)\n",
    "        y_pred = lgbm_model.predict(self.x_test)\n",
    "        predictions = [value for value in y_pred]\n",
    "        mse = mean_squared_error(self.y_test, predictions)\n",
    "        rmse = np.sqrt(mse)\n",
    "        return -1*rmse"
   ]
  },
  {
   "cell_type": "code",
   "execution_count": 184,
   "metadata": {},
   "outputs": [
    {
     "name": "stdout",
     "output_type": "stream",
     "text": [
      "|   iter    |  target   | baggin... | lambda_l1 | lambda_l2 | max_depth | min_ch... | min_ch... | num_le... |\n",
      "-------------------------------------------------------------------------------------------------------------\n",
      "| \u001b[0m 1       \u001b[0m | \u001b[0m-1.784   \u001b[0m | \u001b[0m 0.7754  \u001b[0m | \u001b[0m 0.7081  \u001b[0m | \u001b[0m 0.2909  \u001b[0m | \u001b[0m 4.065   \u001b[0m | \u001b[0m 45.72   \u001b[0m | \u001b[0m 0.8973  \u001b[0m | \u001b[0m 10.65   \u001b[0m |\n",
      "| \u001b[0m 2       \u001b[0m | \u001b[0m-1.964   \u001b[0m | \u001b[0m 0.6036  \u001b[0m | \u001b[0m 0.05147 \u001b[0m | \u001b[0m 0.4408  \u001b[0m | \u001b[0m 1.179   \u001b[0m | \u001b[0m 28.27   \u001b[0m | \u001b[0m 0.6527  \u001b[0m | \u001b[0m 17.53   \u001b[0m |\n",
      "| \u001b[95m 3       \u001b[0m | \u001b[95m-1.782   \u001b[0m | \u001b[95m 0.8381  \u001b[0m | \u001b[95m 0.5909  \u001b[0m | \u001b[95m 0.02398 \u001b[0m | \u001b[95m 4.353   \u001b[0m | \u001b[95m 20.37   \u001b[0m | \u001b[95m 0.421   \u001b[0m | \u001b[95m 17.76   \u001b[0m |\n",
      "| \u001b[95m 4       \u001b[0m | \u001b[95m-1.779   \u001b[0m | \u001b[95m 0.8466  \u001b[0m | \u001b[95m 0.4405  \u001b[0m | \u001b[95m 0.1569  \u001b[0m | \u001b[95m 4.268   \u001b[0m | \u001b[95m 41.21   \u001b[0m | \u001b[95m 0.3133  \u001b[0m | \u001b[95m 14.99   \u001b[0m |\n",
      "| \u001b[95m 5       \u001b[0m | \u001b[95m-1.776   \u001b[0m | \u001b[95m 0.694   \u001b[0m | \u001b[95m 0.9364  \u001b[0m | \u001b[95m 0.976   \u001b[0m | \u001b[95m 5.034   \u001b[0m | \u001b[95m 46.11   \u001b[0m | \u001b[95m 0.8473  \u001b[0m | \u001b[95m 22.01   \u001b[0m |\n",
      "| \u001b[0m 6       \u001b[0m | \u001b[0m-1.79    \u001b[0m | \u001b[0m 0.5461  \u001b[0m | \u001b[0m 0.6534  \u001b[0m | \u001b[0m 0.5578  \u001b[0m | \u001b[0m 3.169   \u001b[0m | \u001b[0m 19.0    \u001b[0m | \u001b[0m 0.4125  \u001b[0m | \u001b[0m 26.1    \u001b[0m |\n",
      "| \u001b[0m 7       \u001b[0m | \u001b[0m-1.777   \u001b[0m | \u001b[0m 0.6346  \u001b[0m | \u001b[0m 0.2918  \u001b[0m | \u001b[0m 0.4577  \u001b[0m | \u001b[0m 6.163   \u001b[0m | \u001b[0m 33.45   \u001b[0m | \u001b[0m 0.2907  \u001b[0m | \u001b[0m 17.51   \u001b[0m |\n",
      "| \u001b[0m 8       \u001b[0m | \u001b[0m-1.781   \u001b[0m | \u001b[0m 0.7273  \u001b[0m | \u001b[0m 0.2054  \u001b[0m | \u001b[0m 0.2014  \u001b[0m | \u001b[0m 4.084   \u001b[0m | \u001b[0m 13.49   \u001b[0m | \u001b[0m 0.4887  \u001b[0m | \u001b[0m 21.3    \u001b[0m |\n",
      "| \u001b[95m 9       \u001b[0m | \u001b[95m-1.775   \u001b[0m | \u001b[95m 0.8538  \u001b[0m | \u001b[95m 0.7467  \u001b[0m | \u001b[95m 0.6911  \u001b[0m | \u001b[95m 5.135   \u001b[0m | \u001b[95m 24.94   \u001b[0m | \u001b[95m 0.6715  \u001b[0m | \u001b[95m 20.29   \u001b[0m |\n",
      "| \u001b[0m 10      \u001b[0m | \u001b[0m-1.964   \u001b[0m | \u001b[0m 0.7864  \u001b[0m | \u001b[0m 0.3258  \u001b[0m | \u001b[0m 0.4451  \u001b[0m | \u001b[0m 1.369   \u001b[0m | \u001b[0m 19.71   \u001b[0m | \u001b[0m 0.9719  \u001b[0m | \u001b[0m 15.38   \u001b[0m |\n",
      "| \u001b[0m 11      \u001b[0m | \u001b[0m-1.79    \u001b[0m | \u001b[0m 0.8457  \u001b[0m | \u001b[0m 0.6505  \u001b[0m | \u001b[0m 0.7239  \u001b[0m | \u001b[0m 3.851   \u001b[0m | \u001b[0m 33.87   \u001b[0m | \u001b[0m 0.0763  \u001b[0m | \u001b[0m 8.265   \u001b[0m |\n",
      "| \u001b[0m 12      \u001b[0m | \u001b[0m-1.964   \u001b[0m | \u001b[0m 0.5995  \u001b[0m | \u001b[0m 0.1519  \u001b[0m | \u001b[0m 0.1001  \u001b[0m | \u001b[0m 1.776   \u001b[0m | \u001b[0m 32.13   \u001b[0m | \u001b[0m 0.1959  \u001b[0m | \u001b[0m 47.84   \u001b[0m |\n",
      "| \u001b[0m 13      \u001b[0m | \u001b[0m-1.84    \u001b[0m | \u001b[0m 0.8408  \u001b[0m | \u001b[0m 0.541   \u001b[0m | \u001b[0m 0.7072  \u001b[0m | \u001b[0m 2.583   \u001b[0m | \u001b[0m 47.07   \u001b[0m | \u001b[0m 0.8408  \u001b[0m | \u001b[0m 37.68   \u001b[0m |\n",
      "| \u001b[0m 14      \u001b[0m | \u001b[0m-1.775   \u001b[0m | \u001b[0m 0.7401  \u001b[0m | \u001b[0m 0.8421  \u001b[0m | \u001b[0m 0.7448  \u001b[0m | \u001b[0m 4.962   \u001b[0m | \u001b[0m 46.56   \u001b[0m | \u001b[0m 0.6373  \u001b[0m | \u001b[0m 21.47   \u001b[0m |\n",
      "| \u001b[0m 15      \u001b[0m | \u001b[0m-1.78    \u001b[0m | \u001b[0m 0.7764  \u001b[0m | \u001b[0m 0.1964  \u001b[0m | \u001b[0m 0.1921  \u001b[0m | \u001b[0m 5.354   \u001b[0m | \u001b[0m 41.4    \u001b[0m | \u001b[0m 0.9724  \u001b[0m | \u001b[0m 43.29   \u001b[0m |\n",
      "| \u001b[0m 16      \u001b[0m | \u001b[0m-1.782   \u001b[0m | \u001b[0m 1.0     \u001b[0m | \u001b[0m 1.0     \u001b[0m | \u001b[0m 0.0     \u001b[0m | \u001b[0m 7.0     \u001b[0m | \u001b[0m 10.0    \u001b[0m | \u001b[0m 0.01    \u001b[0m | \u001b[0m 50.0    \u001b[0m |\n",
      "| \u001b[0m 17      \u001b[0m | \u001b[0m-1.78    \u001b[0m | \u001b[0m 1.0     \u001b[0m | \u001b[0m 1.0     \u001b[0m | \u001b[0m 1.0     \u001b[0m | \u001b[0m 7.0     \u001b[0m | \u001b[0m 50.0    \u001b[0m | \u001b[0m 0.01    \u001b[0m | \u001b[0m 50.0    \u001b[0m |\n",
      "| \u001b[0m 18      \u001b[0m | \u001b[0m-1.803   \u001b[0m | \u001b[0m 1.0     \u001b[0m | \u001b[0m 1.0     \u001b[0m | \u001b[0m 0.0     \u001b[0m | \u001b[0m 7.0     \u001b[0m | \u001b[0m 10.0    \u001b[0m | \u001b[0m 0.01    \u001b[0m | \u001b[0m 5.0     \u001b[0m |\n",
      "| \u001b[0m 19      \u001b[0m | \u001b[0m-1.776   \u001b[0m | \u001b[0m 1.0     \u001b[0m | \u001b[0m 1.0     \u001b[0m | \u001b[0m 0.0     \u001b[0m | \u001b[0m 7.0     \u001b[0m | \u001b[0m 10.0    \u001b[0m | \u001b[0m 0.01    \u001b[0m | \u001b[0m 33.94   \u001b[0m |\n",
      "| \u001b[0m 20      \u001b[0m | \u001b[0m-1.803   \u001b[0m | \u001b[0m 0.5     \u001b[0m | \u001b[0m 1.0     \u001b[0m | \u001b[0m 0.0     \u001b[0m | \u001b[0m 7.0     \u001b[0m | \u001b[0m 41.51   \u001b[0m | \u001b[0m 0.01    \u001b[0m | \u001b[0m 5.0     \u001b[0m |\n",
      "| \u001b[0m 21      \u001b[0m | \u001b[0m-1.776   \u001b[0m | \u001b[0m 1.0     \u001b[0m | \u001b[0m 1.0     \u001b[0m | \u001b[0m 0.0     \u001b[0m | \u001b[0m 7.0     \u001b[0m | \u001b[0m 25.78   \u001b[0m | \u001b[0m 0.01    \u001b[0m | \u001b[0m 36.08   \u001b[0m |\n",
      "| \u001b[95m 22      \u001b[0m | \u001b[95m-1.774   \u001b[0m | \u001b[95m 0.5     \u001b[0m | \u001b[95m 0.0     \u001b[0m | \u001b[95m 1.0     \u001b[0m | \u001b[95m 7.0     \u001b[0m | \u001b[95m 17.37   \u001b[0m | \u001b[95m 0.01    \u001b[0m | \u001b[95m 24.33   \u001b[0m |\n",
      "| \u001b[0m 23      \u001b[0m | \u001b[0m-1.964   \u001b[0m | \u001b[0m 1.0     \u001b[0m | \u001b[0m 1.0     \u001b[0m | \u001b[0m 0.0     \u001b[0m | \u001b[0m 1.0     \u001b[0m | \u001b[0m 10.0    \u001b[0m | \u001b[0m 1.0     \u001b[0m | \u001b[0m 50.0    \u001b[0m |\n",
      "| \u001b[0m 24      \u001b[0m | \u001b[0m-1.787   \u001b[0m | \u001b[0m 1.0     \u001b[0m | \u001b[0m 1.0     \u001b[0m | \u001b[0m 0.0     \u001b[0m | \u001b[0m 7.0     \u001b[0m | \u001b[0m 50.0    \u001b[0m | \u001b[0m 1.0     \u001b[0m | \u001b[0m 34.85   \u001b[0m |\n",
      "| \u001b[0m 25      \u001b[0m | \u001b[0m-1.803   \u001b[0m | \u001b[0m 1.0     \u001b[0m | \u001b[0m 1.0     \u001b[0m | \u001b[0m 0.0     \u001b[0m | \u001b[0m 7.0     \u001b[0m | \u001b[0m 25.72   \u001b[0m | \u001b[0m 1.0     \u001b[0m | \u001b[0m 5.0     \u001b[0m |\n",
      "=============================================================================================================\n"
     ]
    }
   ],
   "source": [
    "lt = lgbm_target(X_train_subset, y_train_subset, X_test_subset, y_test_subset)\n",
    "lgbmBO = BayesianOptimization(lt.evaluate, {'min_child_weight': (0.01, 1),\n",
    "                                              'max_depth': (1, 7),\n",
    "                                              'num_leaves': (5, 50),\n",
    "                                            'min_child_samples' :(10,50),\n",
    "                                            'bagging_fraction' : (0.5,1),\n",
    "                                            'lambda_l1' : (0,1),\n",
    "                                            'lambda_l2' : (0,1)\n",
    "                                           }, \n",
    "                             random_state=3)\n",
    "\n",
    "lgbmBO.maximize(init_points=15, n_iter=10)"
   ]
  },
  {
   "cell_type": "code",
   "execution_count": 224,
   "metadata": {},
   "outputs": [
    {
     "data": {
      "text/plain": [
       "{'target': -1.7744926606010274,\n",
       " 'params': {'bagging_fraction': 0.5,\n",
       "  'lambda_l1': 0.0,\n",
       "  'lambda_l2': 1.0,\n",
       "  'max_depth': 7.0,\n",
       "  'min_child_samples': 17.36937547263704,\n",
       "  'min_child_weight': 0.01,\n",
       "  'num_leaves': 24.32674024279186}}"
      ]
     },
     "execution_count": 224,
     "metadata": {},
     "output_type": "execute_result"
    }
   ],
   "source": [
    "lgbmBO.max"
   ]
  },
  {
   "cell_type": "markdown",
   "metadata": {},
   "source": [
    "## 3. Random Forest "
   ]
  },
  {
   "cell_type": "code",
   "execution_count": 213,
   "metadata": {},
   "outputs": [],
   "source": [
    "class rf_target :\n",
    "    def __init__(self, x_train, y_train, x_test, y_test) :\n",
    "        self.x_train = x_train\n",
    "        self.y_train = y_train\n",
    "        self.x_test = x_test\n",
    "        self.y_test = y_test\n",
    "        \n",
    "    def clean_param(self, param) :\n",
    "        params = {\n",
    "            'max_depth' : 5,\n",
    "            'min_samples_split' : 2,\n",
    "            'min_samples_leaf': 1,\n",
    "            'min_weight_fraction_leaf': 0.0,\n",
    "            'min_impurity_decrease': 0.0\n",
    "            \n",
    "        }\n",
    "        params['max_depth'] = int(param['max_depth'])\n",
    "        params['min_samples_split'] = int(param['min_samples_split'])\n",
    "        params['min_samples_leaf'] = int(param['min_samples_leaf'])\n",
    "        params['min_weight_fraction_leaf'] = param['min_weight_fraction_leaf']\n",
    "        params['min_impurity_decrease'] = param['min_impurity_decrease']\n",
    "\n",
    "        return params\n",
    "        \n",
    "    def evaluate(self, max_depth, min_samples_split, min_samples_leaf,\n",
    "                min_weight_fraction_leaf, min_impurity_decrease):\n",
    "        params = {'max_depth':max_depth, \n",
    "                  'min_samples_split':min_samples_split, \n",
    "                  'min_samples_leaf':min_samples_leaf,\n",
    "                 'min_weight_fraction_leaf':min_weight_fraction_leaf,\n",
    "                 'min_impurity_decrease' : min_impurity_decrease}\n",
    "        \n",
    "        params = self.clean_param(params)\n",
    "\n",
    "        rf_model = RandomForestRegressor(**params)\n",
    "        rf_model.fit(self.x_train, self.y_train)\n",
    "        y_pred = rf_model.predict(self.x_test)\n",
    "        predictions = [value for value in y_pred]\n",
    "        mse = mean_squared_error(self.y_test, predictions)\n",
    "        rmse = np.sqrt(mse)\n",
    "        return -1*rmse"
   ]
  },
  {
   "cell_type": "code",
   "execution_count": 216,
   "metadata": {
    "scrolled": false
   },
   "outputs": [
    {
     "name": "stdout",
     "output_type": "stream",
     "text": [
      "|   iter    |  target   | max_depth | min_im... | min_sa... | min_sa... | min_we... |\n",
      "-------------------------------------------------------------------------------------\n",
      "| \u001b[0m 1       \u001b[0m | \u001b[0m-2.315   \u001b[0m | \u001b[0m 5.957   \u001b[0m | \u001b[0m 0.7081  \u001b[0m | \u001b[0m 18.09   \u001b[0m | \u001b[0m 15.11   \u001b[0m | \u001b[0m 0.4465  \u001b[0m |\n"
     ]
    },
    {
     "name": "stderr",
     "output_type": "stream",
     "text": [
      "/home/tryan/miniconda2/envs/py37/lib/python3.7/site-packages/sklearn/ensemble/forest.py:246: FutureWarning: The default value of n_estimators will change from 10 in version 0.20 to 100 in 0.22.\n",
      "  \"10 in version 0.20 to 100 in 0.22.\", FutureWarning)\n",
      "/home/tryan/miniconda2/envs/py37/lib/python3.7/site-packages/ipykernel_launcher.py:36: DataConversionWarning: A column-vector y was passed when a 1d array was expected. Please change the shape of y to (n_samples,), for example using ravel().\n",
      "/home/tryan/miniconda2/envs/py37/lib/python3.7/site-packages/sklearn/ensemble/forest.py:246: FutureWarning: The default value of n_estimators will change from 10 in version 0.20 to 100 in 0.22.\n",
      "  \"10 in version 0.20 to 100 in 0.22.\", FutureWarning)\n",
      "/home/tryan/miniconda2/envs/py37/lib/python3.7/site-packages/ipykernel_launcher.py:36: DataConversionWarning: A column-vector y was passed when a 1d array was expected. Please change the shape of y to (n_samples,), for example using ravel().\n"
     ]
    },
    {
     "name": "stdout",
     "output_type": "stream",
     "text": [
      "| \u001b[95m 2       \u001b[0m | \u001b[95m-2.04    \u001b[0m | \u001b[95m 9.067   \u001b[0m | \u001b[95m 0.1256  \u001b[0m | \u001b[95m 14.33   \u001b[0m | \u001b[95m 10.51   \u001b[0m | \u001b[95m 0.2204  \u001b[0m |\n",
      "| \u001b[0m 3       \u001b[0m | \u001b[0m-2.262   \u001b[0m | \u001b[0m 1.269   \u001b[0m | \u001b[0m 0.4568  \u001b[0m | \u001b[0m 34.21   \u001b[0m | \u001b[0m 12.78   \u001b[0m | \u001b[0m 0.3381  \u001b[0m |\n"
     ]
    },
    {
     "name": "stderr",
     "output_type": "stream",
     "text": [
      "/home/tryan/miniconda2/envs/py37/lib/python3.7/site-packages/sklearn/ensemble/forest.py:246: FutureWarning: The default value of n_estimators will change from 10 in version 0.20 to 100 in 0.22.\n",
      "  \"10 in version 0.20 to 100 in 0.22.\", FutureWarning)\n",
      "/home/tryan/miniconda2/envs/py37/lib/python3.7/site-packages/ipykernel_launcher.py:36: DataConversionWarning: A column-vector y was passed when a 1d array was expected. Please change the shape of y to (n_samples,), for example using ravel().\n",
      "/home/tryan/miniconda2/envs/py37/lib/python3.7/site-packages/sklearn/ensemble/forest.py:246: FutureWarning: The default value of n_estimators will change from 10 in version 0.20 to 100 in 0.22.\n",
      "  \"10 in version 0.20 to 100 in 0.22.\", FutureWarning)\n",
      "/home/tryan/miniconda2/envs/py37/lib/python3.7/site-packages/ipykernel_launcher.py:36: DataConversionWarning: A column-vector y was passed when a 1d array was expected. Please change the shape of y to (n_samples,), for example using ravel().\n"
     ]
    },
    {
     "name": "stdout",
     "output_type": "stream",
     "text": [
      "| \u001b[0m 4       \u001b[0m | \u001b[0m-2.094   \u001b[0m | \u001b[0m 6.318   \u001b[0m | \u001b[0m 0.02398 \u001b[0m | \u001b[0m 30.15   \u001b[0m | \u001b[0m 12.59   \u001b[0m | \u001b[0m 0.2076  \u001b[0m |\n",
      "| \u001b[0m 5       \u001b[0m | \u001b[0m-2.074   \u001b[0m | \u001b[0m 3.552   \u001b[0m | \u001b[0m 0.6931  \u001b[0m | \u001b[0m 24.82   \u001b[0m | \u001b[0m 11.57   \u001b[0m | \u001b[0m 0.2723  \u001b[0m |\n"
     ]
    },
    {
     "name": "stderr",
     "output_type": "stream",
     "text": [
      "/home/tryan/miniconda2/envs/py37/lib/python3.7/site-packages/sklearn/ensemble/forest.py:246: FutureWarning: The default value of n_estimators will change from 10 in version 0.20 to 100 in 0.22.\n",
      "  \"10 in version 0.20 to 100 in 0.22.\", FutureWarning)\n",
      "/home/tryan/miniconda2/envs/py37/lib/python3.7/site-packages/ipykernel_launcher.py:36: DataConversionWarning: A column-vector y was passed when a 1d array was expected. Please change the shape of y to (n_samples,), for example using ravel().\n",
      "/home/tryan/miniconda2/envs/py37/lib/python3.7/site-packages/sklearn/ensemble/forest.py:246: FutureWarning: The default value of n_estimators will change from 10 in version 0.20 to 100 in 0.22.\n",
      "  \"10 in version 0.20 to 100 in 0.22.\", FutureWarning)\n",
      "/home/tryan/miniconda2/envs/py37/lib/python3.7/site-packages/ipykernel_launcher.py:36: DataConversionWarning: A column-vector y was passed when a 1d array was expected. Please change the shape of y to (n_samples,), for example using ravel().\n"
     ]
    },
    {
     "name": "stdout",
     "output_type": "stream",
     "text": [
      "| \u001b[0m 6       \u001b[0m | \u001b[0m-2.3     \u001b[0m | \u001b[0m 8.023   \u001b[0m | \u001b[0m 0.3064  \u001b[0m | \u001b[0m 14.99   \u001b[0m | \u001b[0m 13.88   \u001b[0m | \u001b[0m 0.4682  \u001b[0m |\n"
     ]
    },
    {
     "name": "stderr",
     "output_type": "stream",
     "text": [
      "/home/tryan/miniconda2/envs/py37/lib/python3.7/site-packages/sklearn/ensemble/forest.py:246: FutureWarning: The default value of n_estimators will change from 10 in version 0.20 to 100 in 0.22.\n",
      "  \"10 in version 0.20 to 100 in 0.22.\", FutureWarning)\n",
      "/home/tryan/miniconda2/envs/py37/lib/python3.7/site-packages/ipykernel_launcher.py:36: DataConversionWarning: A column-vector y was passed when a 1d array was expected. Please change the shape of y to (n_samples,), for example using ravel().\n"
     ]
    },
    {
     "name": "stdout",
     "output_type": "stream",
     "text": [
      "| \u001b[95m 7       \u001b[0m | \u001b[95m-2.038   \u001b[0m | \u001b[95m 9.784   \u001b[0m | \u001b[95m 0.6724  \u001b[0m | \u001b[95m 45.63   \u001b[0m | \u001b[95m 18.46   \u001b[0m | \u001b[95m 0.189   \u001b[0m |\n",
      "| \u001b[0m 8       \u001b[0m | \u001b[0m-2.261   \u001b[0m | \u001b[0m 1.83    \u001b[0m | \u001b[0m 0.6534  \u001b[0m | \u001b[0m 30.1    \u001b[0m | \u001b[0m 13.62   \u001b[0m | \u001b[0m 0.1125  \u001b[0m |\n"
     ]
    },
    {
     "name": "stderr",
     "output_type": "stream",
     "text": [
      "/home/tryan/miniconda2/envs/py37/lib/python3.7/site-packages/sklearn/ensemble/forest.py:246: FutureWarning: The default value of n_estimators will change from 10 in version 0.20 to 100 in 0.22.\n",
      "  \"10 in version 0.20 to 100 in 0.22.\", FutureWarning)\n",
      "/home/tryan/miniconda2/envs/py37/lib/python3.7/site-packages/ipykernel_launcher.py:36: DataConversionWarning: A column-vector y was passed when a 1d array was expected. Please change the shape of y to (n_samples,), for example using ravel().\n",
      "/home/tryan/miniconda2/envs/py37/lib/python3.7/site-packages/sklearn/ensemble/forest.py:246: FutureWarning: The default value of n_estimators will change from 10 in version 0.20 to 100 in 0.22.\n",
      "  \"10 in version 0.20 to 100 in 0.22.\", FutureWarning)\n",
      "/home/tryan/miniconda2/envs/py37/lib/python3.7/site-packages/ipykernel_launcher.py:36: DataConversionWarning: A column-vector y was passed when a 1d array was expected. Please change the shape of y to (n_samples,), for example using ravel().\n"
     ]
    },
    {
     "name": "stdout",
     "output_type": "stream",
     "text": [
      "| \u001b[0m 9       \u001b[0m | \u001b[0m-2.136   \u001b[0m | \u001b[0m 4.659   \u001b[0m | \u001b[0m 0.4689  \u001b[0m | \u001b[0m 17.12   \u001b[0m | \u001b[0m 12.92   \u001b[0m | \u001b[0m 0.2288  \u001b[0m |\n",
      "| \u001b[0m 10      \u001b[0m | \u001b[0m-2.075   \u001b[0m | \u001b[0m 8.745   \u001b[0m | \u001b[0m 0.5863  \u001b[0m | \u001b[0m 17.76   \u001b[0m | \u001b[0m 12.78   \u001b[0m | \u001b[0m 0.2273  \u001b[0m |\n"
     ]
    },
    {
     "name": "stderr",
     "output_type": "stream",
     "text": [
      "/home/tryan/miniconda2/envs/py37/lib/python3.7/site-packages/sklearn/ensemble/forest.py:246: FutureWarning: The default value of n_estimators will change from 10 in version 0.20 to 100 in 0.22.\n",
      "  \"10 in version 0.20 to 100 in 0.22.\", FutureWarning)\n",
      "/home/tryan/miniconda2/envs/py37/lib/python3.7/site-packages/ipykernel_launcher.py:36: DataConversionWarning: A column-vector y was passed when a 1d array was expected. Please change the shape of y to (n_samples,), for example using ravel().\n",
      "/home/tryan/miniconda2/envs/py37/lib/python3.7/site-packages/sklearn/ensemble/forest.py:246: FutureWarning: The default value of n_estimators will change from 10 in version 0.20 to 100 in 0.22.\n",
      "  \"10 in version 0.20 to 100 in 0.22.\", FutureWarning)\n",
      "/home/tryan/miniconda2/envs/py37/lib/python3.7/site-packages/ipykernel_launcher.py:36: DataConversionWarning: A column-vector y was passed when a 1d array was expected. Please change the shape of y to (n_samples,), for example using ravel().\n"
     ]
    },
    {
     "name": "stdout",
     "output_type": "stream",
     "text": [
      "| \u001b[0m 11      \u001b[0m | \u001b[0m-2.105   \u001b[0m | \u001b[0m 2.849   \u001b[0m | \u001b[0m 0.2014  \u001b[0m | \u001b[0m 28.13   \u001b[0m | \u001b[0m 10.87   \u001b[0m | \u001b[0m 0.2418  \u001b[0m |\n",
      "| \u001b[0m 12      \u001b[0m | \u001b[0m-2.273   \u001b[0m | \u001b[0m 4.26    \u001b[0m | \u001b[0m 0.7077  \u001b[0m | \u001b[0m 38.6    \u001b[0m | \u001b[0m 16.91   \u001b[0m | \u001b[0m 0.3446  \u001b[0m |\n"
     ]
    },
    {
     "name": "stderr",
     "output_type": "stream",
     "text": [
      "/home/tryan/miniconda2/envs/py37/lib/python3.7/site-packages/sklearn/ensemble/forest.py:246: FutureWarning: The default value of n_estimators will change from 10 in version 0.20 to 100 in 0.22.\n",
      "  \"10 in version 0.20 to 100 in 0.22.\", FutureWarning)\n",
      "/home/tryan/miniconda2/envs/py37/lib/python3.7/site-packages/ipykernel_launcher.py:36: DataConversionWarning: A column-vector y was passed when a 1d array was expected. Please change the shape of y to (n_samples,), for example using ravel().\n",
      "/home/tryan/miniconda2/envs/py37/lib/python3.7/site-packages/sklearn/ensemble/forest.py:246: FutureWarning: The default value of n_estimators will change from 10 in version 0.20 to 100 in 0.22.\n",
      "  \"10 in version 0.20 to 100 in 0.22.\", FutureWarning)\n",
      "/home/tryan/miniconda2/envs/py37/lib/python3.7/site-packages/ipykernel_launcher.py:36: DataConversionWarning: A column-vector y was passed when a 1d array was expected. Please change the shape of y to (n_samples,), for example using ravel().\n"
     ]
    },
    {
     "name": "stdout",
     "output_type": "stream",
     "text": [
      "| \u001b[95m 13      \u001b[0m | \u001b[95m-2.011   \u001b[0m | \u001b[95m 4.362   \u001b[0m | \u001b[95m 0.6681  \u001b[0m | \u001b[95m 20.29   \u001b[0m | \u001b[95m 15.73   \u001b[0m | \u001b[95m 0.1629  \u001b[0m |\n"
     ]
    },
    {
     "name": "stderr",
     "output_type": "stream",
     "text": [
      "/home/tryan/miniconda2/envs/py37/lib/python3.7/site-packages/sklearn/ensemble/forest.py:246: FutureWarning: The default value of n_estimators will change from 10 in version 0.20 to 100 in 0.22.\n",
      "  \"10 in version 0.20 to 100 in 0.22.\", FutureWarning)\n",
      "/home/tryan/miniconda2/envs/py37/lib/python3.7/site-packages/ipykernel_launcher.py:36: DataConversionWarning: A column-vector y was passed when a 1d array was expected. Please change the shape of y to (n_samples,), for example using ravel().\n"
     ]
    },
    {
     "name": "stdout",
     "output_type": "stream",
     "text": [
      "| \u001b[95m 14      \u001b[0m | \u001b[95m-1.947   \u001b[0m | \u001b[95m 5.006   \u001b[0m | \u001b[95m 0.06153 \u001b[0m | \u001b[95m 15.92   \u001b[0m | \u001b[95m 19.72   \u001b[0m | \u001b[95m 0.1153  \u001b[0m |\n",
      "| \u001b[0m 15      \u001b[0m | \u001b[0m-2.25    \u001b[0m | \u001b[0m 7.223   \u001b[0m | \u001b[0m 0.6505  \u001b[0m | \u001b[0m 37.58   \u001b[0m | \u001b[0m 14.75   \u001b[0m | \u001b[0m 0.2983  \u001b[0m |\n"
     ]
    },
    {
     "name": "stderr",
     "output_type": "stream",
     "text": [
      "/home/tryan/miniconda2/envs/py37/lib/python3.7/site-packages/sklearn/ensemble/forest.py:246: FutureWarning: The default value of n_estimators will change from 10 in version 0.20 to 100 in 0.22.\n",
      "  \"10 in version 0.20 to 100 in 0.22.\", FutureWarning)\n",
      "/home/tryan/miniconda2/envs/py37/lib/python3.7/site-packages/ipykernel_launcher.py:36: DataConversionWarning: A column-vector y was passed when a 1d array was expected. Please change the shape of y to (n_samples,), for example using ravel().\n",
      "/home/tryan/miniconda2/envs/py37/lib/python3.7/site-packages/sklearn/ensemble/forest.py:246: FutureWarning: The default value of n_estimators will change from 10 in version 0.20 to 100 in 0.22.\n",
      "  \"10 in version 0.20 to 100 in 0.22.\", FutureWarning)\n",
      "/home/tryan/miniconda2/envs/py37/lib/python3.7/site-packages/ipykernel_launcher.py:36: DataConversionWarning: A column-vector y was passed when a 1d array was expected. Please change the shape of y to (n_samples,), for example using ravel().\n"
     ]
    },
    {
     "name": "stdout",
     "output_type": "stream",
     "text": [
      "| \u001b[0m 16      \u001b[0m | \u001b[0m-2.277   \u001b[0m | \u001b[0m 1.0     \u001b[0m | \u001b[0m 0.0     \u001b[0m | \u001b[0m 5.0     \u001b[0m | \u001b[0m 20.0    \u001b[0m | \u001b[0m 0.0     \u001b[0m |\n"
     ]
    },
    {
     "name": "stderr",
     "output_type": "stream",
     "text": [
      "/home/tryan/miniconda2/envs/py37/lib/python3.7/site-packages/sklearn/ensemble/forest.py:246: FutureWarning: The default value of n_estimators will change from 10 in version 0.20 to 100 in 0.22.\n",
      "  \"10 in version 0.20 to 100 in 0.22.\", FutureWarning)\n",
      "/home/tryan/miniconda2/envs/py37/lib/python3.7/site-packages/ipykernel_launcher.py:36: DataConversionWarning: A column-vector y was passed when a 1d array was expected. Please change the shape of y to (n_samples,), for example using ravel().\n"
     ]
    },
    {
     "name": "stdout",
     "output_type": "stream",
     "text": [
      "| \u001b[0m 17      \u001b[0m | \u001b[0m-2.306   \u001b[0m | \u001b[0m 1.0     \u001b[0m | \u001b[0m 0.0     \u001b[0m | \u001b[0m 50.0    \u001b[0m | \u001b[0m 10.0    \u001b[0m | \u001b[0m 0.0     \u001b[0m |\n"
     ]
    },
    {
     "name": "stderr",
     "output_type": "stream",
     "text": [
      "/home/tryan/miniconda2/envs/py37/lib/python3.7/site-packages/sklearn/ensemble/forest.py:246: FutureWarning: The default value of n_estimators will change from 10 in version 0.20 to 100 in 0.22.\n",
      "  \"10 in version 0.20 to 100 in 0.22.\", FutureWarning)\n",
      "/home/tryan/miniconda2/envs/py37/lib/python3.7/site-packages/ipykernel_launcher.py:36: DataConversionWarning: A column-vector y was passed when a 1d array was expected. Please change the shape of y to (n_samples,), for example using ravel().\n"
     ]
    },
    {
     "name": "stdout",
     "output_type": "stream",
     "text": [
      "| \u001b[0m 18      \u001b[0m | \u001b[0m-2.858   \u001b[0m | \u001b[0m 1.0     \u001b[0m | \u001b[0m 0.0     \u001b[0m | \u001b[0m 50.0    \u001b[0m | \u001b[0m 20.0    \u001b[0m | \u001b[0m 0.5     \u001b[0m |\n"
     ]
    },
    {
     "name": "stderr",
     "output_type": "stream",
     "text": [
      "/home/tryan/miniconda2/envs/py37/lib/python3.7/site-packages/sklearn/ensemble/forest.py:246: FutureWarning: The default value of n_estimators will change from 10 in version 0.20 to 100 in 0.22.\n",
      "  \"10 in version 0.20 to 100 in 0.22.\", FutureWarning)\n",
      "/home/tryan/miniconda2/envs/py37/lib/python3.7/site-packages/ipykernel_launcher.py:36: DataConversionWarning: A column-vector y was passed when a 1d array was expected. Please change the shape of y to (n_samples,), for example using ravel().\n"
     ]
    },
    {
     "name": "stdout",
     "output_type": "stream",
     "text": [
      "| \u001b[0m 19      \u001b[0m | \u001b[0m-3.01    \u001b[0m | \u001b[0m 10.0    \u001b[0m | \u001b[0m 1.0     \u001b[0m | \u001b[0m 50.0    \u001b[0m | \u001b[0m 10.0    \u001b[0m | \u001b[0m 0.5     \u001b[0m |\n"
     ]
    },
    {
     "name": "stderr",
     "output_type": "stream",
     "text": [
      "/home/tryan/miniconda2/envs/py37/lib/python3.7/site-packages/sklearn/ensemble/forest.py:246: FutureWarning: The default value of n_estimators will change from 10 in version 0.20 to 100 in 0.22.\n",
      "  \"10 in version 0.20 to 100 in 0.22.\", FutureWarning)\n",
      "/home/tryan/miniconda2/envs/py37/lib/python3.7/site-packages/ipykernel_launcher.py:36: DataConversionWarning: A column-vector y was passed when a 1d array was expected. Please change the shape of y to (n_samples,), for example using ravel().\n"
     ]
    },
    {
     "name": "stdout",
     "output_type": "stream",
     "text": [
      "| \u001b[95m 20      \u001b[0m | \u001b[95m-1.787   \u001b[0m | \u001b[95m 10.0    \u001b[0m | \u001b[95m 0.0     \u001b[0m | \u001b[95m 27.19   \u001b[0m | \u001b[95m 20.0    \u001b[0m | \u001b[95m 0.0     \u001b[0m |\n"
     ]
    },
    {
     "name": "stderr",
     "output_type": "stream",
     "text": [
      "/home/tryan/miniconda2/envs/py37/lib/python3.7/site-packages/sklearn/ensemble/forest.py:246: FutureWarning: The default value of n_estimators will change from 10 in version 0.20 to 100 in 0.22.\n",
      "  \"10 in version 0.20 to 100 in 0.22.\", FutureWarning)\n",
      "/home/tryan/miniconda2/envs/py37/lib/python3.7/site-packages/ipykernel_launcher.py:36: DataConversionWarning: A column-vector y was passed when a 1d array was expected. Please change the shape of y to (n_samples,), for example using ravel().\n"
     ]
    },
    {
     "name": "stdout",
     "output_type": "stream",
     "text": [
      "| \u001b[0m 21      \u001b[0m | \u001b[0m-2.25    \u001b[0m | \u001b[0m 1.0     \u001b[0m | \u001b[0m 0.0     \u001b[0m | \u001b[0m 5.0     \u001b[0m | \u001b[0m 10.0    \u001b[0m | \u001b[0m 0.0     \u001b[0m |\n"
     ]
    },
    {
     "name": "stderr",
     "output_type": "stream",
     "text": [
      "/home/tryan/miniconda2/envs/py37/lib/python3.7/site-packages/sklearn/ensemble/forest.py:246: FutureWarning: The default value of n_estimators will change from 10 in version 0.20 to 100 in 0.22.\n",
      "  \"10 in version 0.20 to 100 in 0.22.\", FutureWarning)\n",
      "/home/tryan/miniconda2/envs/py37/lib/python3.7/site-packages/ipykernel_launcher.py:36: DataConversionWarning: A column-vector y was passed when a 1d array was expected. Please change the shape of y to (n_samples,), for example using ravel().\n"
     ]
    },
    {
     "name": "stdout",
     "output_type": "stream",
     "text": [
      "| \u001b[0m 22      \u001b[0m | \u001b[0m-2.302   \u001b[0m | \u001b[0m 1.0     \u001b[0m | \u001b[0m 0.0     \u001b[0m | \u001b[0m 22.55   \u001b[0m | \u001b[0m 20.0    \u001b[0m | \u001b[0m 0.0     \u001b[0m |\n"
     ]
    },
    {
     "name": "stderr",
     "output_type": "stream",
     "text": [
      "/home/tryan/miniconda2/envs/py37/lib/python3.7/site-packages/sklearn/ensemble/forest.py:246: FutureWarning: The default value of n_estimators will change from 10 in version 0.20 to 100 in 0.22.\n",
      "  \"10 in version 0.20 to 100 in 0.22.\", FutureWarning)\n",
      "/home/tryan/miniconda2/envs/py37/lib/python3.7/site-packages/ipykernel_launcher.py:36: DataConversionWarning: A column-vector y was passed when a 1d array was expected. Please change the shape of y to (n_samples,), for example using ravel().\n"
     ]
    },
    {
     "name": "stdout",
     "output_type": "stream",
     "text": [
      "| \u001b[95m 23      \u001b[0m | \u001b[95m-1.786   \u001b[0m | \u001b[95m 10.0    \u001b[0m | \u001b[95m 0.0     \u001b[0m | \u001b[95m 5.0     \u001b[0m | \u001b[95m 20.0    \u001b[0m | \u001b[95m 0.0     \u001b[0m |\n"
     ]
    },
    {
     "name": "stderr",
     "output_type": "stream",
     "text": [
      "/home/tryan/miniconda2/envs/py37/lib/python3.7/site-packages/sklearn/ensemble/forest.py:246: FutureWarning: The default value of n_estimators will change from 10 in version 0.20 to 100 in 0.22.\n",
      "  \"10 in version 0.20 to 100 in 0.22.\", FutureWarning)\n",
      "/home/tryan/miniconda2/envs/py37/lib/python3.7/site-packages/ipykernel_launcher.py:36: DataConversionWarning: A column-vector y was passed when a 1d array was expected. Please change the shape of y to (n_samples,), for example using ravel().\n"
     ]
    },
    {
     "name": "stdout",
     "output_type": "stream",
     "text": [
      "| \u001b[0m 24      \u001b[0m | \u001b[0m-2.036   \u001b[0m | \u001b[0m 10.0    \u001b[0m | \u001b[0m 1.0     \u001b[0m | \u001b[0m 5.0     \u001b[0m | \u001b[0m 10.0    \u001b[0m | \u001b[0m 0.0     \u001b[0m |\n"
     ]
    },
    {
     "name": "stderr",
     "output_type": "stream",
     "text": [
      "/home/tryan/miniconda2/envs/py37/lib/python3.7/site-packages/sklearn/ensemble/forest.py:246: FutureWarning: The default value of n_estimators will change from 10 in version 0.20 to 100 in 0.22.\n",
      "  \"10 in version 0.20 to 100 in 0.22.\", FutureWarning)\n",
      "/home/tryan/miniconda2/envs/py37/lib/python3.7/site-packages/ipykernel_launcher.py:36: DataConversionWarning: A column-vector y was passed when a 1d array was expected. Please change the shape of y to (n_samples,), for example using ravel().\n"
     ]
    },
    {
     "name": "stdout",
     "output_type": "stream",
     "text": [
      "| \u001b[0m 25      \u001b[0m | \u001b[0m-1.79    \u001b[0m | \u001b[0m 10.0    \u001b[0m | \u001b[0m 0.0     \u001b[0m | \u001b[0m 36.48   \u001b[0m | \u001b[0m 20.0    \u001b[0m | \u001b[0m 0.0     \u001b[0m |\n",
      "=====================================================================================\n"
     ]
    }
   ],
   "source": [
    "rf = rf_target(X_train_subset, y_train_subset, X_test_subset, y_test_subset)\n",
    "rfBO = BayesianOptimization(rf.evaluate, {'max_depth': (1, 10),\n",
    "                                              'min_samples_split': (10, 20),\n",
    "                                              'min_samples_leaf': (5, 50),\n",
    "                                            'min_weight_fraction_leaf' :(0,0.5),\n",
    "                                            'min_impurity_decrease' : (0,1)\n",
    "                                           }, \n",
    "                             random_state=3)\n",
    "\n",
    "rfBO.maximize(init_points=15, n_iter=10)"
   ]
  },
  {
   "cell_type": "code",
   "execution_count": 222,
   "metadata": {},
   "outputs": [
    {
     "data": {
      "text/plain": [
       "{'target': -1.785930078238171,\n",
       " 'params': {'max_depth': 10.0,\n",
       "  'min_impurity_decrease': 0.0,\n",
       "  'min_samples_leaf': 5.0,\n",
       "  'min_samples_split': 20.0,\n",
       "  'min_weight_fraction_leaf': 0.0}}"
      ]
     },
     "execution_count": 222,
     "metadata": {},
     "output_type": "execute_result"
    }
   ],
   "source": [
    "rfBO.max"
   ]
  },
  {
   "cell_type": "markdown",
   "metadata": {},
   "source": [
    "## Extra Tree "
   ]
  },
  {
   "cell_type": "code",
   "execution_count": 217,
   "metadata": {},
   "outputs": [],
   "source": [
    "class et_target :\n",
    "    def __init__(self, x_train, y_train, x_test, y_test) :\n",
    "        self.x_train = x_train\n",
    "        self.y_train = y_train\n",
    "        self.x_test = x_test\n",
    "        self.y_test = y_test\n",
    "        \n",
    "    def clean_param(self, param) :\n",
    "        params = {\n",
    "            'max_depth' : 5,\n",
    "            'min_samples_split' : 2,\n",
    "            'min_samples_leaf': 1,\n",
    "            'min_weight_fraction_leaf': 0.0,\n",
    "            'min_impurity_decrease': 0.0\n",
    "            \n",
    "        }\n",
    "        params['max_depth'] = int(param['max_depth'])\n",
    "        params['min_samples_split'] = int(param['min_samples_split'])\n",
    "        params['min_samples_leaf'] = int(param['min_samples_leaf'])\n",
    "        params['min_weight_fraction_leaf'] = param['min_weight_fraction_leaf']\n",
    "        params['min_impurity_decrease'] = param['min_impurity_decrease']\n",
    "\n",
    "        return params\n",
    "        \n",
    "    def evaluate(self, max_depth, min_samples_split, min_samples_leaf,\n",
    "                min_weight_fraction_leaf, min_impurity_decrease):\n",
    "        params = {'max_depth':max_depth, \n",
    "                  'min_samples_split':min_samples_split, \n",
    "                  'min_samples_leaf':min_samples_leaf,\n",
    "                 'min_weight_fraction_leaf':min_weight_fraction_leaf,\n",
    "                 'min_impurity_decrease' : min_impurity_decrease}\n",
    "        \n",
    "        params = self.clean_param(params)\n",
    "\n",
    "        et_model = ExtraTreesRegressor(**params)\n",
    "        et_model.fit(self.x_train, self.y_train)\n",
    "        y_pred = et_model.predict(self.x_test)\n",
    "        predictions = [value for value in y_pred]\n",
    "        mse = mean_squared_error(self.y_test, predictions)\n",
    "        rmse = np.sqrt(mse)\n",
    "        return -1*rmse"
   ]
  },
  {
   "cell_type": "code",
   "execution_count": 221,
   "metadata": {
    "scrolled": false
   },
   "outputs": [
    {
     "name": "stdout",
     "output_type": "stream",
     "text": [
      "|   iter    |  target   | max_depth | min_im... | min_sa... | min_sa... | min_we... |\n",
      "-------------------------------------------------------------------------------------\n",
      "| \u001b[0m 1       \u001b[0m | \u001b[0m-2.625   \u001b[0m | \u001b[0m 5.957   \u001b[0m | \u001b[0m 0.7081  \u001b[0m | \u001b[0m 18.09   \u001b[0m | \u001b[0m 15.11   \u001b[0m | \u001b[0m 0.4465  \u001b[0m |\n",
      "| \u001b[95m 2       \u001b[0m | \u001b[95m-2.174   \u001b[0m | \u001b[95m 9.067   \u001b[0m | \u001b[95m 0.1256  \u001b[0m | \u001b[95m 14.33   \u001b[0m | \u001b[95m 10.51   \u001b[0m | \u001b[95m 0.2204  \u001b[0m |\n",
      "| \u001b[0m 3       \u001b[0m | \u001b[0m-2.412   \u001b[0m | \u001b[0m 1.269   \u001b[0m | \u001b[0m 0.4568  \u001b[0m | \u001b[0m 34.21   \u001b[0m | \u001b[0m 12.78   \u001b[0m | \u001b[0m 0.3381  \u001b[0m |\n"
     ]
    },
    {
     "name": "stderr",
     "output_type": "stream",
     "text": [
      "/home/tryan/miniconda2/envs/py37/lib/python3.7/site-packages/sklearn/ensemble/forest.py:246: FutureWarning: The default value of n_estimators will change from 10 in version 0.20 to 100 in 0.22.\n",
      "  \"10 in version 0.20 to 100 in 0.22.\", FutureWarning)\n",
      "/home/tryan/miniconda2/envs/py37/lib/python3.7/site-packages/ipykernel_launcher.py:36: DataConversionWarning: A column-vector y was passed when a 1d array was expected. Please change the shape of y to (n_samples,), for example using ravel().\n",
      "/home/tryan/miniconda2/envs/py37/lib/python3.7/site-packages/sklearn/ensemble/forest.py:246: FutureWarning: The default value of n_estimators will change from 10 in version 0.20 to 100 in 0.22.\n",
      "  \"10 in version 0.20 to 100 in 0.22.\", FutureWarning)\n",
      "/home/tryan/miniconda2/envs/py37/lib/python3.7/site-packages/ipykernel_launcher.py:36: DataConversionWarning: A column-vector y was passed when a 1d array was expected. Please change the shape of y to (n_samples,), for example using ravel().\n",
      "/home/tryan/miniconda2/envs/py37/lib/python3.7/site-packages/sklearn/ensemble/forest.py:246: FutureWarning: The default value of n_estimators will change from 10 in version 0.20 to 100 in 0.22.\n",
      "  \"10 in version 0.20 to 100 in 0.22.\", FutureWarning)\n",
      "/home/tryan/miniconda2/envs/py37/lib/python3.7/site-packages/ipykernel_launcher.py:36: DataConversionWarning: A column-vector y was passed when a 1d array was expected. Please change the shape of y to (n_samples,), for example using ravel().\n",
      "/home/tryan/miniconda2/envs/py37/lib/python3.7/site-packages/sklearn/ensemble/forest.py:246: FutureWarning: The default value of n_estimators will change from 10 in version 0.20 to 100 in 0.22.\n",
      "  \"10 in version 0.20 to 100 in 0.22.\", FutureWarning)\n",
      "/home/tryan/miniconda2/envs/py37/lib/python3.7/site-packages/ipykernel_launcher.py:36: DataConversionWarning: A column-vector y was passed when a 1d array was expected. Please change the shape of y to (n_samples,), for example using ravel().\n"
     ]
    },
    {
     "name": "stdout",
     "output_type": "stream",
     "text": [
      "| \u001b[0m 4       \u001b[0m | \u001b[0m-2.3     \u001b[0m | \u001b[0m 6.318   \u001b[0m | \u001b[0m 0.02398 \u001b[0m | \u001b[0m 30.15   \u001b[0m | \u001b[0m 12.59   \u001b[0m | \u001b[0m 0.2076  \u001b[0m |\n",
      "| \u001b[0m 5       \u001b[0m | \u001b[0m-2.295   \u001b[0m | \u001b[0m 3.552   \u001b[0m | \u001b[0m 0.6931  \u001b[0m | \u001b[0m 24.82   \u001b[0m | \u001b[0m 11.57   \u001b[0m | \u001b[0m 0.2723  \u001b[0m |\n",
      "| \u001b[0m 6       \u001b[0m | \u001b[0m-2.647   \u001b[0m | \u001b[0m 8.023   \u001b[0m | \u001b[0m 0.3064  \u001b[0m | \u001b[0m 14.99   \u001b[0m | \u001b[0m 13.88   \u001b[0m | \u001b[0m 0.4682  \u001b[0m |\n",
      "| \u001b[0m 7       \u001b[0m | \u001b[0m-2.237   \u001b[0m | \u001b[0m 9.784   \u001b[0m | \u001b[0m 0.6724  \u001b[0m | \u001b[0m 45.63   \u001b[0m | \u001b[0m 18.46   \u001b[0m | \u001b[0m 0.189   \u001b[0m |\n"
     ]
    },
    {
     "name": "stderr",
     "output_type": "stream",
     "text": [
      "/home/tryan/miniconda2/envs/py37/lib/python3.7/site-packages/sklearn/ensemble/forest.py:246: FutureWarning: The default value of n_estimators will change from 10 in version 0.20 to 100 in 0.22.\n",
      "  \"10 in version 0.20 to 100 in 0.22.\", FutureWarning)\n",
      "/home/tryan/miniconda2/envs/py37/lib/python3.7/site-packages/ipykernel_launcher.py:36: DataConversionWarning: A column-vector y was passed when a 1d array was expected. Please change the shape of y to (n_samples,), for example using ravel().\n",
      "/home/tryan/miniconda2/envs/py37/lib/python3.7/site-packages/sklearn/ensemble/forest.py:246: FutureWarning: The default value of n_estimators will change from 10 in version 0.20 to 100 in 0.22.\n",
      "  \"10 in version 0.20 to 100 in 0.22.\", FutureWarning)\n",
      "/home/tryan/miniconda2/envs/py37/lib/python3.7/site-packages/ipykernel_launcher.py:36: DataConversionWarning: A column-vector y was passed when a 1d array was expected. Please change the shape of y to (n_samples,), for example using ravel().\n",
      "/home/tryan/miniconda2/envs/py37/lib/python3.7/site-packages/sklearn/ensemble/forest.py:246: FutureWarning: The default value of n_estimators will change from 10 in version 0.20 to 100 in 0.22.\n",
      "  \"10 in version 0.20 to 100 in 0.22.\", FutureWarning)\n",
      "/home/tryan/miniconda2/envs/py37/lib/python3.7/site-packages/ipykernel_launcher.py:36: DataConversionWarning: A column-vector y was passed when a 1d array was expected. Please change the shape of y to (n_samples,), for example using ravel().\n",
      "/home/tryan/miniconda2/envs/py37/lib/python3.7/site-packages/sklearn/ensemble/forest.py:246: FutureWarning: The default value of n_estimators will change from 10 in version 0.20 to 100 in 0.22.\n",
      "  \"10 in version 0.20 to 100 in 0.22.\", FutureWarning)\n",
      "/home/tryan/miniconda2/envs/py37/lib/python3.7/site-packages/ipykernel_launcher.py:36: DataConversionWarning: A column-vector y was passed when a 1d array was expected. Please change the shape of y to (n_samples,), for example using ravel().\n"
     ]
    },
    {
     "name": "stdout",
     "output_type": "stream",
     "text": [
      "| \u001b[0m 8       \u001b[0m | \u001b[0m-2.577   \u001b[0m | \u001b[0m 1.83    \u001b[0m | \u001b[0m 0.6534  \u001b[0m | \u001b[0m 30.1    \u001b[0m | \u001b[0m 13.62   \u001b[0m | \u001b[0m 0.1125  \u001b[0m |\n",
      "| \u001b[0m 9       \u001b[0m | \u001b[0m-2.298   \u001b[0m | \u001b[0m 4.659   \u001b[0m | \u001b[0m 0.4689  \u001b[0m | \u001b[0m 17.12   \u001b[0m | \u001b[0m 12.92   \u001b[0m | \u001b[0m 0.2288  \u001b[0m |\n",
      "| \u001b[0m 10      \u001b[0m | \u001b[0m-2.244   \u001b[0m | \u001b[0m 8.745   \u001b[0m | \u001b[0m 0.5863  \u001b[0m | \u001b[0m 17.76   \u001b[0m | \u001b[0m 12.78   \u001b[0m | \u001b[0m 0.2273  \u001b[0m |\n"
     ]
    },
    {
     "name": "stderr",
     "output_type": "stream",
     "text": [
      "/home/tryan/miniconda2/envs/py37/lib/python3.7/site-packages/sklearn/ensemble/forest.py:246: FutureWarning: The default value of n_estimators will change from 10 in version 0.20 to 100 in 0.22.\n",
      "  \"10 in version 0.20 to 100 in 0.22.\", FutureWarning)\n",
      "/home/tryan/miniconda2/envs/py37/lib/python3.7/site-packages/ipykernel_launcher.py:36: DataConversionWarning: A column-vector y was passed when a 1d array was expected. Please change the shape of y to (n_samples,), for example using ravel().\n",
      "/home/tryan/miniconda2/envs/py37/lib/python3.7/site-packages/sklearn/ensemble/forest.py:246: FutureWarning: The default value of n_estimators will change from 10 in version 0.20 to 100 in 0.22.\n",
      "  \"10 in version 0.20 to 100 in 0.22.\", FutureWarning)\n",
      "/home/tryan/miniconda2/envs/py37/lib/python3.7/site-packages/ipykernel_launcher.py:36: DataConversionWarning: A column-vector y was passed when a 1d array was expected. Please change the shape of y to (n_samples,), for example using ravel().\n",
      "/home/tryan/miniconda2/envs/py37/lib/python3.7/site-packages/sklearn/ensemble/forest.py:246: FutureWarning: The default value of n_estimators will change from 10 in version 0.20 to 100 in 0.22.\n",
      "  \"10 in version 0.20 to 100 in 0.22.\", FutureWarning)\n",
      "/home/tryan/miniconda2/envs/py37/lib/python3.7/site-packages/ipykernel_launcher.py:36: DataConversionWarning: A column-vector y was passed when a 1d array was expected. Please change the shape of y to (n_samples,), for example using ravel().\n"
     ]
    },
    {
     "name": "stdout",
     "output_type": "stream",
     "text": [
      "| \u001b[0m 11      \u001b[0m | \u001b[0m-2.279   \u001b[0m | \u001b[0m 2.849   \u001b[0m | \u001b[0m 0.2014  \u001b[0m | \u001b[0m 28.13   \u001b[0m | \u001b[0m 10.87   \u001b[0m | \u001b[0m 0.2418  \u001b[0m |\n",
      "| \u001b[0m 12      \u001b[0m | \u001b[0m-2.326   \u001b[0m | \u001b[0m 4.26    \u001b[0m | \u001b[0m 0.7077  \u001b[0m | \u001b[0m 38.6    \u001b[0m | \u001b[0m 16.91   \u001b[0m | \u001b[0m 0.3446  \u001b[0m |\n",
      "| \u001b[0m 13      \u001b[0m | \u001b[0m-2.274   \u001b[0m | \u001b[0m 4.362   \u001b[0m | \u001b[0m 0.6681  \u001b[0m | \u001b[0m 20.29   \u001b[0m | \u001b[0m 15.73   \u001b[0m | \u001b[0m 0.1629  \u001b[0m |\n"
     ]
    },
    {
     "name": "stderr",
     "output_type": "stream",
     "text": [
      "/home/tryan/miniconda2/envs/py37/lib/python3.7/site-packages/sklearn/ensemble/forest.py:246: FutureWarning: The default value of n_estimators will change from 10 in version 0.20 to 100 in 0.22.\n",
      "  \"10 in version 0.20 to 100 in 0.22.\", FutureWarning)\n",
      "/home/tryan/miniconda2/envs/py37/lib/python3.7/site-packages/ipykernel_launcher.py:36: DataConversionWarning: A column-vector y was passed when a 1d array was expected. Please change the shape of y to (n_samples,), for example using ravel().\n",
      "/home/tryan/miniconda2/envs/py37/lib/python3.7/site-packages/sklearn/ensemble/forest.py:246: FutureWarning: The default value of n_estimators will change from 10 in version 0.20 to 100 in 0.22.\n",
      "  \"10 in version 0.20 to 100 in 0.22.\", FutureWarning)\n",
      "/home/tryan/miniconda2/envs/py37/lib/python3.7/site-packages/ipykernel_launcher.py:36: DataConversionWarning: A column-vector y was passed when a 1d array was expected. Please change the shape of y to (n_samples,), for example using ravel().\n",
      "/home/tryan/miniconda2/envs/py37/lib/python3.7/site-packages/sklearn/ensemble/forest.py:246: FutureWarning: The default value of n_estimators will change from 10 in version 0.20 to 100 in 0.22.\n",
      "  \"10 in version 0.20 to 100 in 0.22.\", FutureWarning)\n",
      "/home/tryan/miniconda2/envs/py37/lib/python3.7/site-packages/ipykernel_launcher.py:36: DataConversionWarning: A column-vector y was passed when a 1d array was expected. Please change the shape of y to (n_samples,), for example using ravel().\n"
     ]
    },
    {
     "name": "stdout",
     "output_type": "stream",
     "text": [
      "| \u001b[95m 14      \u001b[0m | \u001b[95m-2.013   \u001b[0m | \u001b[95m 5.006   \u001b[0m | \u001b[95m 0.06153 \u001b[0m | \u001b[95m 15.92   \u001b[0m | \u001b[95m 19.72   \u001b[0m | \u001b[95m 0.1153  \u001b[0m |\n",
      "| \u001b[0m 15      \u001b[0m | \u001b[0m-2.348   \u001b[0m | \u001b[0m 7.223   \u001b[0m | \u001b[0m 0.6505  \u001b[0m | \u001b[0m 37.58   \u001b[0m | \u001b[0m 14.75   \u001b[0m | \u001b[0m 0.2983  \u001b[0m |\n"
     ]
    },
    {
     "name": "stderr",
     "output_type": "stream",
     "text": [
      "/home/tryan/miniconda2/envs/py37/lib/python3.7/site-packages/sklearn/ensemble/forest.py:246: FutureWarning: The default value of n_estimators will change from 10 in version 0.20 to 100 in 0.22.\n",
      "  \"10 in version 0.20 to 100 in 0.22.\", FutureWarning)\n",
      "/home/tryan/miniconda2/envs/py37/lib/python3.7/site-packages/ipykernel_launcher.py:36: DataConversionWarning: A column-vector y was passed when a 1d array was expected. Please change the shape of y to (n_samples,), for example using ravel().\n",
      "/home/tryan/miniconda2/envs/py37/lib/python3.7/site-packages/sklearn/ensemble/forest.py:246: FutureWarning: The default value of n_estimators will change from 10 in version 0.20 to 100 in 0.22.\n",
      "  \"10 in version 0.20 to 100 in 0.22.\", FutureWarning)\n",
      "/home/tryan/miniconda2/envs/py37/lib/python3.7/site-packages/ipykernel_launcher.py:36: DataConversionWarning: A column-vector y was passed when a 1d array was expected. Please change the shape of y to (n_samples,), for example using ravel().\n"
     ]
    },
    {
     "name": "stdout",
     "output_type": "stream",
     "text": [
      "| \u001b[0m 16      \u001b[0m | \u001b[0m-2.328   \u001b[0m | \u001b[0m 1.0     \u001b[0m | \u001b[0m 0.0     \u001b[0m | \u001b[0m 5.0     \u001b[0m | \u001b[0m 20.0    \u001b[0m | \u001b[0m 0.0     \u001b[0m |\n"
     ]
    },
    {
     "name": "stderr",
     "output_type": "stream",
     "text": [
      "/home/tryan/miniconda2/envs/py37/lib/python3.7/site-packages/sklearn/ensemble/forest.py:246: FutureWarning: The default value of n_estimators will change from 10 in version 0.20 to 100 in 0.22.\n",
      "  \"10 in version 0.20 to 100 in 0.22.\", FutureWarning)\n",
      "/home/tryan/miniconda2/envs/py37/lib/python3.7/site-packages/ipykernel_launcher.py:36: DataConversionWarning: A column-vector y was passed when a 1d array was expected. Please change the shape of y to (n_samples,), for example using ravel().\n"
     ]
    },
    {
     "name": "stdout",
     "output_type": "stream",
     "text": [
      "| \u001b[0m 17      \u001b[0m | \u001b[0m-2.415   \u001b[0m | \u001b[0m 1.0     \u001b[0m | \u001b[0m 0.0     \u001b[0m | \u001b[0m 50.0    \u001b[0m | \u001b[0m 10.0    \u001b[0m | \u001b[0m 0.0     \u001b[0m |\n"
     ]
    },
    {
     "name": "stderr",
     "output_type": "stream",
     "text": [
      "/home/tryan/miniconda2/envs/py37/lib/python3.7/site-packages/sklearn/ensemble/forest.py:246: FutureWarning: The default value of n_estimators will change from 10 in version 0.20 to 100 in 0.22.\n",
      "  \"10 in version 0.20 to 100 in 0.22.\", FutureWarning)\n",
      "/home/tryan/miniconda2/envs/py37/lib/python3.7/site-packages/ipykernel_launcher.py:36: DataConversionWarning: A column-vector y was passed when a 1d array was expected. Please change the shape of y to (n_samples,), for example using ravel().\n"
     ]
    },
    {
     "name": "stdout",
     "output_type": "stream",
     "text": [
      "| \u001b[0m 18      \u001b[0m | \u001b[0m-2.344   \u001b[0m | \u001b[0m 1.0     \u001b[0m | \u001b[0m 0.0     \u001b[0m | \u001b[0m 5.0     \u001b[0m | \u001b[0m 10.0    \u001b[0m | \u001b[0m 0.0     \u001b[0m |\n"
     ]
    },
    {
     "name": "stderr",
     "output_type": "stream",
     "text": [
      "/home/tryan/miniconda2/envs/py37/lib/python3.7/site-packages/sklearn/ensemble/forest.py:246: FutureWarning: The default value of n_estimators will change from 10 in version 0.20 to 100 in 0.22.\n",
      "  \"10 in version 0.20 to 100 in 0.22.\", FutureWarning)\n",
      "/home/tryan/miniconda2/envs/py37/lib/python3.7/site-packages/ipykernel_launcher.py:36: DataConversionWarning: A column-vector y was passed when a 1d array was expected. Please change the shape of y to (n_samples,), for example using ravel().\n"
     ]
    },
    {
     "name": "stdout",
     "output_type": "stream",
     "text": [
      "| \u001b[0m 19      \u001b[0m | \u001b[0m-3.387   \u001b[0m | \u001b[0m 1.0     \u001b[0m | \u001b[0m 1.0     \u001b[0m | \u001b[0m 50.0    \u001b[0m | \u001b[0m 20.0    \u001b[0m | \u001b[0m 0.5     \u001b[0m |\n"
     ]
    },
    {
     "name": "stderr",
     "output_type": "stream",
     "text": [
      "/home/tryan/miniconda2/envs/py37/lib/python3.7/site-packages/sklearn/ensemble/forest.py:246: FutureWarning: The default value of n_estimators will change from 10 in version 0.20 to 100 in 0.22.\n",
      "  \"10 in version 0.20 to 100 in 0.22.\", FutureWarning)\n",
      "/home/tryan/miniconda2/envs/py37/lib/python3.7/site-packages/ipykernel_launcher.py:36: DataConversionWarning: A column-vector y was passed when a 1d array was expected. Please change the shape of y to (n_samples,), for example using ravel().\n"
     ]
    },
    {
     "name": "stdout",
     "output_type": "stream",
     "text": [
      "| \u001b[0m 20      \u001b[0m | \u001b[0m-3.387   \u001b[0m | \u001b[0m 10.0    \u001b[0m | \u001b[0m 0.0     \u001b[0m | \u001b[0m 50.0    \u001b[0m | \u001b[0m 10.0    \u001b[0m | \u001b[0m 0.5     \u001b[0m |\n"
     ]
    },
    {
     "name": "stderr",
     "output_type": "stream",
     "text": [
      "/home/tryan/miniconda2/envs/py37/lib/python3.7/site-packages/sklearn/ensemble/forest.py:246: FutureWarning: The default value of n_estimators will change from 10 in version 0.20 to 100 in 0.22.\n",
      "  \"10 in version 0.20 to 100 in 0.22.\", FutureWarning)\n",
      "/home/tryan/miniconda2/envs/py37/lib/python3.7/site-packages/ipykernel_launcher.py:36: DataConversionWarning: A column-vector y was passed when a 1d array was expected. Please change the shape of y to (n_samples,), for example using ravel().\n"
     ]
    },
    {
     "name": "stdout",
     "output_type": "stream",
     "text": [
      "| \u001b[95m 21      \u001b[0m | \u001b[95m-1.764   \u001b[0m | \u001b[95m 10.0    \u001b[0m | \u001b[95m 0.0     \u001b[0m | \u001b[95m 26.94   \u001b[0m | \u001b[95m 20.0    \u001b[0m | \u001b[95m 0.0     \u001b[0m |\n"
     ]
    },
    {
     "name": "stderr",
     "output_type": "stream",
     "text": [
      "/home/tryan/miniconda2/envs/py37/lib/python3.7/site-packages/sklearn/ensemble/forest.py:246: FutureWarning: The default value of n_estimators will change from 10 in version 0.20 to 100 in 0.22.\n",
      "  \"10 in version 0.20 to 100 in 0.22.\", FutureWarning)\n",
      "/home/tryan/miniconda2/envs/py37/lib/python3.7/site-packages/ipykernel_launcher.py:36: DataConversionWarning: A column-vector y was passed when a 1d array was expected. Please change the shape of y to (n_samples,), for example using ravel().\n"
     ]
    },
    {
     "name": "stdout",
     "output_type": "stream",
     "text": [
      "| \u001b[95m 22      \u001b[0m | \u001b[95m-1.761   \u001b[0m | \u001b[95m 10.0    \u001b[0m | \u001b[95m 0.0     \u001b[0m | \u001b[95m 5.0     \u001b[0m | \u001b[95m 20.0    \u001b[0m | \u001b[95m 0.0     \u001b[0m |\n"
     ]
    },
    {
     "name": "stderr",
     "output_type": "stream",
     "text": [
      "/home/tryan/miniconda2/envs/py37/lib/python3.7/site-packages/sklearn/ensemble/forest.py:246: FutureWarning: The default value of n_estimators will change from 10 in version 0.20 to 100 in 0.22.\n",
      "  \"10 in version 0.20 to 100 in 0.22.\", FutureWarning)\n",
      "/home/tryan/miniconda2/envs/py37/lib/python3.7/site-packages/ipykernel_launcher.py:36: DataConversionWarning: A column-vector y was passed when a 1d array was expected. Please change the shape of y to (n_samples,), for example using ravel().\n"
     ]
    },
    {
     "name": "stdout",
     "output_type": "stream",
     "text": [
      "| \u001b[0m 23      \u001b[0m | \u001b[0m-2.218   \u001b[0m | \u001b[0m 10.0    \u001b[0m | \u001b[0m 1.0     \u001b[0m | \u001b[0m 5.0     \u001b[0m | \u001b[0m 10.0    \u001b[0m | \u001b[0m 0.0     \u001b[0m |\n"
     ]
    },
    {
     "name": "stderr",
     "output_type": "stream",
     "text": [
      "/home/tryan/miniconda2/envs/py37/lib/python3.7/site-packages/sklearn/ensemble/forest.py:246: FutureWarning: The default value of n_estimators will change from 10 in version 0.20 to 100 in 0.22.\n",
      "  \"10 in version 0.20 to 100 in 0.22.\", FutureWarning)\n",
      "/home/tryan/miniconda2/envs/py37/lib/python3.7/site-packages/ipykernel_launcher.py:36: DataConversionWarning: A column-vector y was passed when a 1d array was expected. Please change the shape of y to (n_samples,), for example using ravel().\n"
     ]
    },
    {
     "name": "stdout",
     "output_type": "stream",
     "text": [
      "| \u001b[0m 24      \u001b[0m | \u001b[0m-2.316   \u001b[0m | \u001b[0m 1.0     \u001b[0m | \u001b[0m 0.0     \u001b[0m | \u001b[0m 21.75   \u001b[0m | \u001b[0m 20.0    \u001b[0m | \u001b[0m 0.0     \u001b[0m |\n"
     ]
    },
    {
     "name": "stderr",
     "output_type": "stream",
     "text": [
      "/home/tryan/miniconda2/envs/py37/lib/python3.7/site-packages/sklearn/ensemble/forest.py:246: FutureWarning: The default value of n_estimators will change from 10 in version 0.20 to 100 in 0.22.\n",
      "  \"10 in version 0.20 to 100 in 0.22.\", FutureWarning)\n",
      "/home/tryan/miniconda2/envs/py37/lib/python3.7/site-packages/ipykernel_launcher.py:36: DataConversionWarning: A column-vector y was passed when a 1d array was expected. Please change the shape of y to (n_samples,), for example using ravel().\n"
     ]
    },
    {
     "name": "stdout",
     "output_type": "stream",
     "text": [
      "| \u001b[0m 25      \u001b[0m | \u001b[0m-1.765   \u001b[0m | \u001b[0m 10.0    \u001b[0m | \u001b[0m 0.0     \u001b[0m | \u001b[0m 35.49   \u001b[0m | \u001b[0m 20.0    \u001b[0m | \u001b[0m 0.0     \u001b[0m |\n",
      "=====================================================================================\n"
     ]
    }
   ],
   "source": [
    "et = et_target(X_train_subset, y_train_subset, X_test_subset, y_test_subset)\n",
    "etBO = BayesianOptimization(et.evaluate, {'max_depth': (1, 10),\n",
    "                                              'min_samples_split': (10, 20),\n",
    "                                              'min_samples_leaf': (5, 50),\n",
    "                                            'min_weight_fraction_leaf' :(0,0.5),\n",
    "                                            'min_impurity_decrease' : (0,1)\n",
    "                                           }, \n",
    "                             random_state=3)\n",
    "\n",
    "etBO.maximize(init_points=15, n_iter=10)"
   ]
  },
  {
   "cell_type": "code",
   "execution_count": 223,
   "metadata": {},
   "outputs": [
    {
     "data": {
      "text/plain": [
       "{'target': -1.7612070508864968,\n",
       " 'params': {'max_depth': 10.0,\n",
       "  'min_impurity_decrease': 0.0,\n",
       "  'min_samples_leaf': 5.0,\n",
       "  'min_samples_split': 20.0,\n",
       "  'min_weight_fraction_leaf': 0.0}}"
      ]
     },
     "execution_count": 223,
     "metadata": {},
     "output_type": "execute_result"
    }
   ],
   "source": [
    "etBO.max"
   ]
  },
  {
   "cell_type": "code",
   "execution_count": null,
   "metadata": {},
   "outputs": [],
   "source": []
  }
 ],
 "metadata": {
  "kernelspec": {
   "display_name": "Python 3",
   "language": "python",
   "name": "python3"
  },
  "language_info": {
   "codemirror_mode": {
    "name": "ipython",
    "version": 3
   },
   "file_extension": ".py",
   "mimetype": "text/x-python",
   "name": "python",
   "nbconvert_exporter": "python",
   "pygments_lexer": "ipython3",
   "version": "3.8.3"
  }
 },
 "nbformat": 4,
 "nbformat_minor": 2
}
