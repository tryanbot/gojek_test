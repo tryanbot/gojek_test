{
 "cells": [
  {
   "cell_type": "code",
   "execution_count": 1,
   "metadata": {},
   "outputs": [],
   "source": [
    "import pandas as pd\n",
    "import numpy as np\n",
    "\n",
    "from sklearn.metrics import mean_squared_error"
   ]
  },
  {
   "cell_type": "code",
   "execution_count": 2,
   "metadata": {},
   "outputs": [],
   "source": [
    "def bagging(preds, cols):\n",
    "    y_predicted = np.zeros(len(preds[0]))\n",
    "    for df in preds:\n",
    "        for c in cols:\n",
    "            y_predicted += df[c]\n",
    "    y_predicted = y_predicted/(len(preds)*len(cols))\n",
    "    rmse = np.sqrt(mean_squared_error(df['online_hours'], y_predicted))\n",
    "    print(\"RMSE: %.5f\"% rmse)"
   ]
  },
  {
   "cell_type": "markdown",
   "metadata": {},
   "source": [
    "# Bagging Plain "
   ]
  },
  {
   "cell_type": "code",
   "execution_count": 3,
   "metadata": {},
   "outputs": [],
   "source": [
    "pred_v1 = pd.read_csv('preds/pred_v1.csv', parse_dates=['date'])\n",
    "pred_v2 = pd.read_csv('preds/pred_v2.csv', parse_dates=['date'])"
   ]
  },
  {
   "cell_type": "code",
   "execution_count": 4,
   "metadata": {},
   "outputs": [
    {
     "name": "stdout",
     "output_type": "stream",
     "text": [
      "RMSE: 1.81513\n",
      "RMSE: 1.80633\n",
      "RMSE: 1.80563\n",
      "RMSE: 1.80986\n",
      "RMSE: 1.81209\n"
     ]
    }
   ],
   "source": [
    "bagging([pred_v1, pred_v2], ['pred_catboost', 'pred_lgbm', 'pred_xgb', 'pred_rf', 'pred_ext', 'pred_ada'])\n",
    "bagging([pred_v1, pred_v2], ['pred_catboost', 'pred_lgbm', 'pred_xgb', 'pred_rf', 'pred_ext'])\n",
    "bagging([pred_v1, pred_v2], ['pred_catboost', 'pred_lgbm', 'pred_xgb', 'pred_rf'])\n",
    "bagging([pred_v1, pred_v2], ['pred_catboost', 'pred_lgbm', 'pred_xgb'])\n",
    "bagging([pred_v1, pred_v2], ['pred_lgbm', 'pred_xgb'])"
   ]
  },
  {
   "cell_type": "markdown",
   "metadata": {},
   "source": [
    "# Bagging Recursive  "
   ]
  },
  {
   "cell_type": "code",
   "execution_count": 5,
   "metadata": {},
   "outputs": [],
   "source": [
    "pred_r_v1 = pd.read_csv('preds/pred_recursive_v1.csv', parse_dates=['date'])\n",
    "pred_r_v2 = pd.read_csv('preds/pred_recursive_v2.csv', parse_dates=['date'])"
   ]
  },
  {
   "cell_type": "code",
   "execution_count": 6,
   "metadata": {},
   "outputs": [
    {
     "name": "stdout",
     "output_type": "stream",
     "text": [
      "RMSE: 1.81493\n",
      "RMSE: 1.80621\n",
      "RMSE: 1.80504\n",
      "RMSE: 1.80729\n",
      "RMSE: 1.80971\n"
     ]
    }
   ],
   "source": [
    "bagging([pred_r_v1, pred_r_v2], ['pred_catboost', 'pred_lgbm', 'pred_xgb', 'pred_rf', 'pred_ext', 'pred_ada'])\n",
    "bagging([pred_r_v1, pred_r_v2], ['pred_catboost', 'pred_lgbm', 'pred_xgb', 'pred_rf', 'pred_ext'])\n",
    "bagging([pred_r_v1, pred_r_v2], ['pred_catboost', 'pred_lgbm', 'pred_xgb', 'pred_rf'])\n",
    "bagging([pred_r_v1, pred_r_v2], ['pred_catboost', 'pred_lgbm', 'pred_xgb'])\n",
    "bagging([pred_r_v1, pred_r_v2], ['pred_lgbm', 'pred_xgb'])"
   ]
  },
  {
   "cell_type": "markdown",
   "metadata": {},
   "source": [
    "# Bagging Permutation "
   ]
  },
  {
   "cell_type": "code",
   "execution_count": 7,
   "metadata": {},
   "outputs": [],
   "source": [
    "pred_perm_v1 = pd.read_csv('preds/pred_perm_v1.csv', parse_dates=['date'])\n",
    "pred_perm_v2 = pd.read_csv('preds/pred_perm_v2.csv', parse_dates=['date'])"
   ]
  },
  {
   "cell_type": "code",
   "execution_count": 8,
   "metadata": {},
   "outputs": [
    {
     "name": "stdout",
     "output_type": "stream",
     "text": [
      "RMSE: 1.81433\n",
      "RMSE: 1.80572\n",
      "RMSE: 1.80488\n",
      "RMSE: 1.80680\n",
      "RMSE: 1.80923\n"
     ]
    }
   ],
   "source": [
    "bagging([pred_perm_v1, pred_perm_v2], ['pred_catboost', 'pred_lgbm', 'pred_xgb', 'pred_rf', 'pred_ext', 'pred_ada'])\n",
    "bagging([pred_perm_v1, pred_perm_v2], ['pred_catboost', 'pred_lgbm', 'pred_xgb', 'pred_rf', 'pred_ext'])\n",
    "bagging([pred_perm_v1, pred_perm_v2], ['pred_catboost', 'pred_lgbm', 'pred_xgb', 'pred_rf'])\n",
    "bagging([pred_perm_v1, pred_perm_v2], ['pred_catboost', 'pred_lgbm', 'pred_xgb'])\n",
    "bagging([pred_perm_v1,pred_perm_v2], ['pred_lgbm', 'pred_xgb'])"
   ]
  },
  {
   "cell_type": "markdown",
   "metadata": {},
   "source": [
    "# Bagging Feature Selection "
   ]
  },
  {
   "cell_type": "code",
   "execution_count": 9,
   "metadata": {
    "scrolled": true
   },
   "outputs": [
    {
     "name": "stdout",
     "output_type": "stream",
     "text": [
      "RMSE: 1.81398\n",
      "RMSE: 1.80510\n",
      "RMSE: 1.80444\n",
      "RMSE: 1.80695\n",
      "RMSE: 1.80933\n"
     ]
    }
   ],
   "source": [
    "source = [pred_perm_v1, pred_perm_v2, pred_r_v1, pred_r_v2]\n",
    "bagging(source, ['pred_catboost', 'pred_lgbm', 'pred_xgb', 'pred_rf', 'pred_ext', 'pred_ada'])\n",
    "bagging(source, ['pred_catboost', 'pred_lgbm', 'pred_xgb', 'pred_rf', 'pred_ext'])\n",
    "bagging(source, ['pred_catboost', 'pred_lgbm', 'pred_xgb', 'pred_rf'])\n",
    "bagging(source, ['pred_catboost', 'pred_lgbm', 'pred_xgb'])\n",
    "bagging(source, ['pred_lgbm', 'pred_xgb'])"
   ]
  },
  {
   "cell_type": "markdown",
   "metadata": {},
   "source": [
    "# Bagging All"
   ]
  },
  {
   "cell_type": "code",
   "execution_count": 10,
   "metadata": {},
   "outputs": [
    {
     "name": "stdout",
     "output_type": "stream",
     "text": [
      "RMSE: 1.81302\n",
      "RMSE: 1.80371\n",
      "RMSE: 1.80405\n",
      "RMSE: 1.80761\n",
      "RMSE: 1.80997\n"
     ]
    }
   ],
   "source": [
    "source = [pred_perm_v1, pred_perm_v2, pred_r_v1, pred_r_v2, pred_v1, pred_v2]\n",
    "bagging(source, ['pred_catboost', 'pred_lgbm', 'pred_xgb', 'pred_rf', 'pred_ext', 'pred_ada'])\n",
    "bagging(source, ['pred_catboost', 'pred_lgbm', 'pred_xgb', 'pred_rf', 'pred_ext'])\n",
    "bagging(source, ['pred_catboost', 'pred_lgbm', 'pred_xgb', 'pred_rf'])\n",
    "bagging(source, ['pred_catboost', 'pred_lgbm', 'pred_xgb'])\n",
    "bagging(source, ['pred_lgbm', 'pred_xgb'])"
   ]
  },
  {
   "cell_type": "code",
   "execution_count": null,
   "metadata": {},
   "outputs": [],
   "source": []
  }
 ],
 "metadata": {
  "kernelspec": {
   "display_name": "Python 3",
   "language": "python",
   "name": "python3"
  },
  "language_info": {
   "codemirror_mode": {
    "name": "ipython",
    "version": 3
   },
   "file_extension": ".py",
   "mimetype": "text/x-python",
   "name": "python",
   "nbconvert_exporter": "python",
   "pygments_lexer": "ipython3",
   "version": "3.7.2"
  }
 },
 "nbformat": 4,
 "nbformat_minor": 2
}
